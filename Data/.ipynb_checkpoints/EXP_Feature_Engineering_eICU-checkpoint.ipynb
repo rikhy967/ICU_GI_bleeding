{
 "cells": [
  {
   "cell_type": "code",
   "execution_count": 1,
   "metadata": {},
   "outputs": [
    {
     "name": "stdout",
     "output_type": "stream",
     "text": [
      "Populating the interactive namespace from numpy and matplotlib\n"
     ]
    }
   ],
   "source": [
    "%pylab inline"
   ]
  },
  {
   "cell_type": "code",
   "execution_count": 2,
   "metadata": {},
   "outputs": [],
   "source": [
    "import numpy as np\n",
    "import pandas as pd\n",
    "import math\n",
    "import tqdm\n",
    "\n",
    "from sklearn.experimental import enable_iterative_imputer\n",
    "from sklearn.impute import IterativeImputer\n",
    "from sklearn.ensemble import IsolationForest\n",
    "import matplotlib.pyplot as plt\n",
    "import seaborn as sns\n",
    "from sklearn.preprocessing import StandardScaler\n",
    "\n",
    "from datetime import datetime\n",
    "from costum_utils import future_checker"
   ]
  },
  {
   "cell_type": "markdown",
   "metadata": {},
   "source": [
    "## 1. Data import"
   ]
  },
  {
   "cell_type": "markdown",
   "metadata": {},
   "source": [
    "Let us start by importing the data obtained by quering eICU database"
   ]
  },
  {
   "cell_type": "code",
   "execution_count": 3,
   "metadata": {},
   "outputs": [],
   "source": [
    "id_patients = pd.read_csv('./eICU/id_patients.csv',sep=',',index_col=0)\n",
    "lab_results = pd.read_csv('./eICU/lab.csv',sep=',',index_col=0)\n",
    "transfusion =  pd.read_csv('./eICU/transfusion.csv',sep=',',index_col=0)\n",
    "patient_info =  pd.read_csv('./eICU/patient_info.csv',sep=',',index_col=0)\n",
    "vital_periodic =  pd.read_csv('./eICU/vital_periodic.csv',sep=',')\n",
    "vital_aperiodic =  pd.read_csv('./eICU/vital_aperiodic.csv',sep=',')\n",
    "crystalloid = pd.read_csv('./eICU/crystalloids.csv',sep=',')"
   ]
  },
  {
   "cell_type": "markdown",
   "metadata": {},
   "source": [
    "We only keep up to the first 24 hours of the icu stay"
   ]
  },
  {
   "cell_type": "code",
   "execution_count": 4,
   "metadata": {},
   "outputs": [],
   "source": [
    "vital_aperiodic=vital_aperiodic[vital_aperiodic.time<=24]\n",
    "vital_periodic=vital_periodic[vital_periodic.time<=24]\n",
    "crystalloid = crystalloid[crystalloid.time<=24]"
   ]
  },
  {
   "cell_type": "markdown",
   "metadata": {},
   "source": [
    "We also remove readmissions"
   ]
  },
  {
   "cell_type": "code",
   "execution_count": 5,
   "metadata": {},
   "outputs": [],
   "source": [
    "patient_info = patient_info[patient_info.unitstaytype!='readmit']\n",
    "patient_info = patient_info[['gender','age']]"
   ]
  },
  {
   "cell_type": "markdown",
   "metadata": {},
   "source": [
    "Qualcosa sui cristalloidi che non capisco"
   ]
  },
  {
   "cell_type": "code",
   "execution_count": 6,
   "metadata": {},
   "outputs": [],
   "source": [
    "crystalloid = crystalloid.drop('cellpath',axis = 1)\n",
    "crystalloid.columns= ['patientunitstayid','time','crystalloid']"
   ]
  },
  {
   "cell_type": "markdown",
   "metadata": {},
   "source": [
    "Collapse multiple transfusions within an hour into a unique observation"
   ]
  },
  {
   "cell_type": "code",
   "execution_count": 7,
   "metadata": {},
   "outputs": [
    {
     "data": {
      "text/plain": [
       "0.00       0.644117\n",
       "700.00     0.028753\n",
       "350.00     0.021256\n",
       "600.00     0.017111\n",
       "1050.00    0.012436\n",
       "             ...   \n",
       "1487.00    0.000088\n",
       "1138.75    0.000088\n",
       "911.50     0.000088\n",
       "1389.00    0.000088\n",
       "642.30     0.000088\n",
       "Name: amount, Length: 1202, dtype: float64"
      ]
     },
     "execution_count": 7,
     "metadata": {},
     "output_type": "execute_result"
    }
   ],
   "source": [
    "transfusion.groupby(transfusion.index).sum()['amount'].value_counts()/transfusion.groupby(transfusion.index).sum().shape[0]"
   ]
  },
  {
   "cell_type": "markdown",
   "metadata": {},
   "source": [
    "## 2. Data merging"
   ]
  },
  {
   "cell_type": "code",
   "execution_count": 8,
   "metadata": {},
   "outputs": [],
   "source": [
    "lab_e_transfusion=lab_results.merge(transfusion,left_on=[lab_results.index,'time'],right_on=[transfusion.index,'time'],how = 'outer').set_index('key_0')"
   ]
  },
  {
   "cell_type": "code",
   "execution_count": 9,
   "metadata": {},
   "outputs": [],
   "source": [
    "vital_periodic=vital_periodic.groupby(['patientunitstayid','time'],as_index=False).mean().drop(['systemicsystolic','systemicdiastolic','systemicmean'],axis = 1)"
   ]
  },
  {
   "cell_type": "code",
   "execution_count": 10,
   "metadata": {},
   "outputs": [],
   "source": [
    "lab_e_transfusion_e_periodic = lab_e_transfusion.merge(vital_periodic,left_on=[lab_e_transfusion.index,'time'],right_on=['patientunitstayid','time'],how = 'outer').set_index('patientunitstayid')"
   ]
  },
  {
   "cell_type": "code",
   "execution_count": 11,
   "metadata": {},
   "outputs": [],
   "source": [
    "vital_aperiodic=vital_aperiodic.groupby(['patientunitstayid','time'],as_index=False).mean()"
   ]
  },
  {
   "cell_type": "code",
   "execution_count": 12,
   "metadata": {},
   "outputs": [],
   "source": [
    "crystalloid=crystalloid.groupby(['patientunitstayid','time'],as_index=False).sum()"
   ]
  },
  {
   "cell_type": "code",
   "execution_count": 13,
   "metadata": {},
   "outputs": [],
   "source": [
    "lab_e_transfusion_e_periodic_e_aperiodic = lab_e_transfusion_e_periodic.merge(vital_aperiodic,left_on=[lab_e_transfusion_e_periodic.index,'time'],right_on=['patientunitstayid','time'],how = 'outer').set_index('patientunitstayid')"
   ]
  },
  {
   "cell_type": "code",
   "execution_count": 14,
   "metadata": {},
   "outputs": [],
   "source": [
    "lab_e_transfusion_e_periodic_e_aperiodic = lab_e_transfusion_e_periodic_e_aperiodic.merge(crystalloid,left_on=[lab_e_transfusion_e_periodic_e_aperiodic.index,'time'],right_on=['patientunitstayid','time'],how = 'outer').set_index('patientunitstayid')"
   ]
  },
  {
   "cell_type": "code",
   "execution_count": 15,
   "metadata": {},
   "outputs": [],
   "source": [
    "tabel_final = lab_e_transfusion_e_periodic_e_aperiodic.join(patient_info,how = 'right')"
   ]
  },
  {
   "cell_type": "markdown",
   "metadata": {},
   "source": [
    "## 3. Creating X and y"
   ]
  },
  {
   "cell_type": "code",
   "execution_count": 16,
   "metadata": {},
   "outputs": [],
   "source": [
    "dataset = tabel_final.copy()"
   ]
  },
  {
   "cell_type": "markdown",
   "metadata": {},
   "source": [
    "### 3.1 Rename columns as MIMIC"
   ]
  },
  {
   "cell_type": "code",
   "execution_count": 17,
   "metadata": {},
   "outputs": [],
   "source": [
    "dataset=dataset.rename(columns={\n",
    "    'albumin':'ALBUMIN',\n",
    "    'creatinine':'CREATININE',\n",
    "    'glucose':'GLUCOSE',\n",
    "    'bicarbonate':'BICARBONATE',\n",
    "    'hematocrit':'HEMATOCRIT',\n",
    "    'hemoglobin':'HEMOGLOBIN',\n",
    "    'lactate':'LACTATE',\n",
    "    'potassium':'POTASSIUM',\n",
    "    'ptt':'PTT',\n",
    "    'wbc':'WBC',\n",
    "    'platelets':'PLATELET',\n",
    "    'amount':'AmountTransfused',\n",
    "    'temperature':'TempC',\n",
    "    'heartrate':'HEARTRATE',\n",
    "    'respiration':'RespRate',\n",
    "    'noninvasivesystolic':'SysBP',\n",
    "    'noninvasivediastolic':'DiasBP',\n",
    "    'noninvasivemean':'MeanBP',\n",
    "    'age':'admission_age',\n",
    "    'crystalloid':'crystalloid_bolus'\n",
    "    \n",
    "    }          \n",
    ")"
   ]
  },
  {
   "cell_type": "markdown",
   "metadata": {},
   "source": [
    "### 3.2 Handiling ICU preadmission infos"
   ]
  },
  {
   "cell_type": "markdown",
   "metadata": {},
   "source": [
    "Let us define a dataframe which will contain all the information about 12 hours prior ICU admission"
   ]
  },
  {
   "cell_type": "code",
   "execution_count": 18,
   "metadata": {},
   "outputs": [],
   "source": [
    "pre_icu = dataset[ (dataset['time']>=-12) & (dataset['time']<=-1)]"
   ]
  },
  {
   "cell_type": "markdown",
   "metadata": {},
   "source": [
    "For each variable we define a specific extraction criteria"
   ]
  },
  {
   "cell_type": "code",
   "execution_count": 19,
   "metadata": {},
   "outputs": [
    {
     "name": "stderr",
     "output_type": "stream",
     "text": [
      "/home/mrcharles/anaconda3/envs/tensorflow/lib/python3.6/site-packages/pandas/core/groupby/ops.py:931: RuntimeWarning: Mean of empty slice\n",
      "  return libreduction.apply_frame_axis0(sdata, f, names, starts, ends)\n",
      "/home/mrcharles/anaconda3/envs/tensorflow/lib/python3.6/site-packages/numpy/lib/nanfunctions.py:1116: RuntimeWarning: All-NaN slice encountered\n",
      "  overwrite_input=overwrite_input)\n",
      "/home/mrcharles/anaconda3/envs/tensorflow/lib/python3.6/site-packages/pandas/core/groupby/ops.py:931: RuntimeWarning: All-NaN axis encountered\n",
      "  return libreduction.apply_frame_axis0(sdata, f, names, starts, ends)\n"
     ]
    }
   ],
   "source": [
    "#define a new dataframe only containing the index of the patients\n",
    "pre_x = pd.DataFrame(index=pre_icu.index.unique())\n",
    "\n",
    "#feature extraction criteria\n",
    "features_list = [\n",
    "    ('ALBUMIN',np.nanmean),\n",
    "    ('BUN',np.nanmedian),\n",
    "    ('CREATININE', np.nanmax),\n",
    "    ('GLUCOSE',np.nanmean),\n",
    "    ('BICARBONATE', np.nanmedian),\n",
    "    ('HEMATOCRIT', np.nanmin),\n",
    "    ('HEMOGLOBIN', np.nanmin),\n",
    "    ('INR',np.nanmean),\n",
    "    ('LACTATE',np.nanmean),\n",
    "    ('PLATELET', np.nanmin),\n",
    "    ('POTASSIUM', np.nanmax),\n",
    "    ('PTT', np.nanmax),\n",
    "    ('WBC', np.nanmean),\n",
    "    ('AmountTransfused', np.nansum),\n",
    "    ('TempC', np.nanmin),\n",
    "    ('HEARTRATE', np.nanmax),\n",
    "    ('RespRate', np.nanmax),\n",
    "    ('SysBP', np.nanmin),\n",
    "    ('DiasBP',np.nanmin),\n",
    "    ('MeanBP', np.nanmean),\n",
    "    ('crystalloid_bolus', np.nansum),\n",
    "    ('gender', np.nanmin),\n",
    "    ('admission_age', np.nanmin),   \n",
    "]\n",
    "\n",
    "#save features names\n",
    "feature_names = [x[0] for x in features_list]\n",
    "\n",
    "#process features column by column after grouping for patients\n",
    "to_concat = []\n",
    "grouped = pre_icu.groupby(pre_icu.index)\n",
    "\n",
    "for feature, function in features_list:\n",
    "    to_concat.append(grouped[[feature]].apply(function))\n",
    " \n",
    "#add obtained feature to previously defined dataframe\n",
    "pre_x = pd.concat([pre_x] + to_concat, axis=1, join='inner')\n",
    "pre_x.columns = feature_names\n",
    "\n",
    "#add the time value\n",
    "pre_x['time'] = [-1]*pre_x.shape[0]"
   ]
  },
  {
   "cell_type": "markdown",
   "metadata": {},
   "source": [
    "Initial information imputation"
   ]
  },
  {
   "cell_type": "markdown",
   "metadata": {},
   "source": [
    "### 3.3 ICU training data"
   ]
  },
  {
   "cell_type": "markdown",
   "metadata": {},
   "source": [
    "We start by subsetting data in the time interval of interest: 0-3 hours"
   ]
  },
  {
   "cell_type": "code",
   "execution_count": 20,
   "metadata": {},
   "outputs": [],
   "source": [
    "final = dataset[dataset['time']<=3]\n",
    "final = final[final['time']>=0]"
   ]
  },
  {
   "cell_type": "markdown",
   "metadata": {},
   "source": [
    "The let us merge the informations prior ICU admission obtained in the last step"
   ]
  },
  {
   "cell_type": "code",
   "execution_count": 21,
   "metadata": {},
   "outputs": [
    {
     "data": {
      "text/html": [
       "<div>\n",
       "<style scoped>\n",
       "    .dataframe tbody tr th:only-of-type {\n",
       "        vertical-align: middle;\n",
       "    }\n",
       "\n",
       "    .dataframe tbody tr th {\n",
       "        vertical-align: top;\n",
       "    }\n",
       "\n",
       "    .dataframe thead th {\n",
       "        text-align: right;\n",
       "    }\n",
       "</style>\n",
       "<table border=\"1\" class=\"dataframe\">\n",
       "  <thead>\n",
       "    <tr style=\"text-align: right;\">\n",
       "      <th></th>\n",
       "      <th>ALBUMIN</th>\n",
       "      <th>BUN</th>\n",
       "      <th>CREATININE</th>\n",
       "      <th>GLUCOSE</th>\n",
       "      <th>BICARBONATE</th>\n",
       "      <th>HEMATOCRIT</th>\n",
       "      <th>HEMOGLOBIN</th>\n",
       "      <th>INR</th>\n",
       "      <th>LACTATE</th>\n",
       "      <th>PLATELET</th>\n",
       "      <th>...</th>\n",
       "      <th>TempC</th>\n",
       "      <th>HEARTRATE</th>\n",
       "      <th>RespRate</th>\n",
       "      <th>SysBP</th>\n",
       "      <th>DiasBP</th>\n",
       "      <th>MeanBP</th>\n",
       "      <th>crystalloid_bolus</th>\n",
       "      <th>gender</th>\n",
       "      <th>admission_age</th>\n",
       "      <th>time</th>\n",
       "    </tr>\n",
       "    <tr>\n",
       "      <th>patientunitstayid</th>\n",
       "      <th></th>\n",
       "      <th></th>\n",
       "      <th></th>\n",
       "      <th></th>\n",
       "      <th></th>\n",
       "      <th></th>\n",
       "      <th></th>\n",
       "      <th></th>\n",
       "      <th></th>\n",
       "      <th></th>\n",
       "      <th></th>\n",
       "      <th></th>\n",
       "      <th></th>\n",
       "      <th></th>\n",
       "      <th></th>\n",
       "      <th></th>\n",
       "      <th></th>\n",
       "      <th></th>\n",
       "      <th></th>\n",
       "      <th></th>\n",
       "      <th></th>\n",
       "    </tr>\n",
       "  </thead>\n",
       "  <tbody>\n",
       "    <tr>\n",
       "      <th>141266</th>\n",
       "      <td>3.6</td>\n",
       "      <td>29.0</td>\n",
       "      <td>1.90</td>\n",
       "      <td>410.4</td>\n",
       "      <td>29.0</td>\n",
       "      <td>33.4</td>\n",
       "      <td>9.5</td>\n",
       "      <td>1.10</td>\n",
       "      <td>4.5</td>\n",
       "      <td>283.0</td>\n",
       "      <td>...</td>\n",
       "      <td>NaN</td>\n",
       "      <td>NaN</td>\n",
       "      <td>NaN</td>\n",
       "      <td>NaN</td>\n",
       "      <td>NaN</td>\n",
       "      <td>NaN</td>\n",
       "      <td>100.0</td>\n",
       "      <td>Male</td>\n",
       "      <td>73</td>\n",
       "      <td>-1.0</td>\n",
       "    </tr>\n",
       "    <tr>\n",
       "      <th>141266</th>\n",
       "      <td>NaN</td>\n",
       "      <td>NaN</td>\n",
       "      <td>NaN</td>\n",
       "      <td>319.0</td>\n",
       "      <td>NaN</td>\n",
       "      <td>NaN</td>\n",
       "      <td>NaN</td>\n",
       "      <td>NaN</td>\n",
       "      <td>NaN</td>\n",
       "      <td>NaN</td>\n",
       "      <td>...</td>\n",
       "      <td>NaN</td>\n",
       "      <td>96.333333</td>\n",
       "      <td>28.000000</td>\n",
       "      <td>NaN</td>\n",
       "      <td>NaN</td>\n",
       "      <td>NaN</td>\n",
       "      <td>NaN</td>\n",
       "      <td>Male</td>\n",
       "      <td>73</td>\n",
       "      <td>0.0</td>\n",
       "    </tr>\n",
       "    <tr>\n",
       "      <th>141266</th>\n",
       "      <td>NaN</td>\n",
       "      <td>NaN</td>\n",
       "      <td>NaN</td>\n",
       "      <td>215.0</td>\n",
       "      <td>NaN</td>\n",
       "      <td>NaN</td>\n",
       "      <td>NaN</td>\n",
       "      <td>NaN</td>\n",
       "      <td>NaN</td>\n",
       "      <td>NaN</td>\n",
       "      <td>...</td>\n",
       "      <td>NaN</td>\n",
       "      <td>93.583333</td>\n",
       "      <td>21.500000</td>\n",
       "      <td>101.000000</td>\n",
       "      <td>63.00</td>\n",
       "      <td>78.000000</td>\n",
       "      <td>NaN</td>\n",
       "      <td>Male</td>\n",
       "      <td>73</td>\n",
       "      <td>1.0</td>\n",
       "    </tr>\n",
       "    <tr>\n",
       "      <th>141266</th>\n",
       "      <td>NaN</td>\n",
       "      <td>NaN</td>\n",
       "      <td>NaN</td>\n",
       "      <td>NaN</td>\n",
       "      <td>NaN</td>\n",
       "      <td>NaN</td>\n",
       "      <td>NaN</td>\n",
       "      <td>NaN</td>\n",
       "      <td>NaN</td>\n",
       "      <td>NaN</td>\n",
       "      <td>...</td>\n",
       "      <td>37.400000</td>\n",
       "      <td>93.083333</td>\n",
       "      <td>19.083333</td>\n",
       "      <td>94.000000</td>\n",
       "      <td>54.50</td>\n",
       "      <td>68.500000</td>\n",
       "      <td>NaN</td>\n",
       "      <td>Male</td>\n",
       "      <td>73</td>\n",
       "      <td>2.0</td>\n",
       "    </tr>\n",
       "    <tr>\n",
       "      <th>141266</th>\n",
       "      <td>NaN</td>\n",
       "      <td>NaN</td>\n",
       "      <td>NaN</td>\n",
       "      <td>NaN</td>\n",
       "      <td>NaN</td>\n",
       "      <td>NaN</td>\n",
       "      <td>NaN</td>\n",
       "      <td>NaN</td>\n",
       "      <td>NaN</td>\n",
       "      <td>NaN</td>\n",
       "      <td>...</td>\n",
       "      <td>37.508333</td>\n",
       "      <td>87.250000</td>\n",
       "      <td>14.166667</td>\n",
       "      <td>86.000000</td>\n",
       "      <td>57.00</td>\n",
       "      <td>67.000000</td>\n",
       "      <td>220.0</td>\n",
       "      <td>Male</td>\n",
       "      <td>73</td>\n",
       "      <td>3.0</td>\n",
       "    </tr>\n",
       "    <tr>\n",
       "      <th>...</th>\n",
       "      <td>...</td>\n",
       "      <td>...</td>\n",
       "      <td>...</td>\n",
       "      <td>...</td>\n",
       "      <td>...</td>\n",
       "      <td>...</td>\n",
       "      <td>...</td>\n",
       "      <td>...</td>\n",
       "      <td>...</td>\n",
       "      <td>...</td>\n",
       "      <td>...</td>\n",
       "      <td>...</td>\n",
       "      <td>...</td>\n",
       "      <td>...</td>\n",
       "      <td>...</td>\n",
       "      <td>...</td>\n",
       "      <td>...</td>\n",
       "      <td>...</td>\n",
       "      <td>...</td>\n",
       "      <td>...</td>\n",
       "      <td>...</td>\n",
       "    </tr>\n",
       "    <tr>\n",
       "      <th>3353254</th>\n",
       "      <td>3.9</td>\n",
       "      <td>42.0</td>\n",
       "      <td>2.38</td>\n",
       "      <td>181.0</td>\n",
       "      <td>24.0</td>\n",
       "      <td>33.0</td>\n",
       "      <td>10.9</td>\n",
       "      <td>1.03</td>\n",
       "      <td>1.3</td>\n",
       "      <td>268.0</td>\n",
       "      <td>...</td>\n",
       "      <td>NaN</td>\n",
       "      <td>NaN</td>\n",
       "      <td>NaN</td>\n",
       "      <td>NaN</td>\n",
       "      <td>NaN</td>\n",
       "      <td>NaN</td>\n",
       "      <td>0.0</td>\n",
       "      <td>Male</td>\n",
       "      <td>81</td>\n",
       "      <td>-1.0</td>\n",
       "    </tr>\n",
       "    <tr>\n",
       "      <th>3353254</th>\n",
       "      <td>NaN</td>\n",
       "      <td>NaN</td>\n",
       "      <td>NaN</td>\n",
       "      <td>NaN</td>\n",
       "      <td>NaN</td>\n",
       "      <td>NaN</td>\n",
       "      <td>NaN</td>\n",
       "      <td>NaN</td>\n",
       "      <td>NaN</td>\n",
       "      <td>NaN</td>\n",
       "      <td>...</td>\n",
       "      <td>NaN</td>\n",
       "      <td>75.750000</td>\n",
       "      <td>21.250000</td>\n",
       "      <td>128.500000</td>\n",
       "      <td>66.50</td>\n",
       "      <td>89.500000</td>\n",
       "      <td>0.0</td>\n",
       "      <td>Male</td>\n",
       "      <td>81</td>\n",
       "      <td>0.0</td>\n",
       "    </tr>\n",
       "    <tr>\n",
       "      <th>3353254</th>\n",
       "      <td>NaN</td>\n",
       "      <td>NaN</td>\n",
       "      <td>NaN</td>\n",
       "      <td>NaN</td>\n",
       "      <td>NaN</td>\n",
       "      <td>NaN</td>\n",
       "      <td>NaN</td>\n",
       "      <td>NaN</td>\n",
       "      <td>NaN</td>\n",
       "      <td>NaN</td>\n",
       "      <td>...</td>\n",
       "      <td>NaN</td>\n",
       "      <td>78.500000</td>\n",
       "      <td>22.750000</td>\n",
       "      <td>96.833333</td>\n",
       "      <td>58.00</td>\n",
       "      <td>71.666667</td>\n",
       "      <td>NaN</td>\n",
       "      <td>Male</td>\n",
       "      <td>81</td>\n",
       "      <td>1.0</td>\n",
       "    </tr>\n",
       "    <tr>\n",
       "      <th>3353254</th>\n",
       "      <td>NaN</td>\n",
       "      <td>NaN</td>\n",
       "      <td>NaN</td>\n",
       "      <td>NaN</td>\n",
       "      <td>NaN</td>\n",
       "      <td>NaN</td>\n",
       "      <td>NaN</td>\n",
       "      <td>NaN</td>\n",
       "      <td>NaN</td>\n",
       "      <td>NaN</td>\n",
       "      <td>...</td>\n",
       "      <td>NaN</td>\n",
       "      <td>75.416667</td>\n",
       "      <td>22.833333</td>\n",
       "      <td>130.000000</td>\n",
       "      <td>76.25</td>\n",
       "      <td>97.000000</td>\n",
       "      <td>NaN</td>\n",
       "      <td>Male</td>\n",
       "      <td>81</td>\n",
       "      <td>2.0</td>\n",
       "    </tr>\n",
       "    <tr>\n",
       "      <th>3353254</th>\n",
       "      <td>NaN</td>\n",
       "      <td>NaN</td>\n",
       "      <td>NaN</td>\n",
       "      <td>NaN</td>\n",
       "      <td>NaN</td>\n",
       "      <td>NaN</td>\n",
       "      <td>NaN</td>\n",
       "      <td>NaN</td>\n",
       "      <td>NaN</td>\n",
       "      <td>NaN</td>\n",
       "      <td>...</td>\n",
       "      <td>NaN</td>\n",
       "      <td>75.916667</td>\n",
       "      <td>22.416667</td>\n",
       "      <td>136.000000</td>\n",
       "      <td>70.00</td>\n",
       "      <td>95.500000</td>\n",
       "      <td>NaN</td>\n",
       "      <td>Male</td>\n",
       "      <td>81</td>\n",
       "      <td>3.0</td>\n",
       "    </tr>\n",
       "  </tbody>\n",
       "</table>\n",
       "<p>48839 rows × 24 columns</p>\n",
       "</div>"
      ],
      "text/plain": [
       "                   ALBUMIN   BUN  CREATININE  GLUCOSE  BICARBONATE  \\\n",
       "patientunitstayid                                                    \n",
       "141266                 3.6  29.0        1.90    410.4         29.0   \n",
       "141266                 NaN   NaN         NaN    319.0          NaN   \n",
       "141266                 NaN   NaN         NaN    215.0          NaN   \n",
       "141266                 NaN   NaN         NaN      NaN          NaN   \n",
       "141266                 NaN   NaN         NaN      NaN          NaN   \n",
       "...                    ...   ...         ...      ...          ...   \n",
       "3353254                3.9  42.0        2.38    181.0         24.0   \n",
       "3353254                NaN   NaN         NaN      NaN          NaN   \n",
       "3353254                NaN   NaN         NaN      NaN          NaN   \n",
       "3353254                NaN   NaN         NaN      NaN          NaN   \n",
       "3353254                NaN   NaN         NaN      NaN          NaN   \n",
       "\n",
       "                   HEMATOCRIT  HEMOGLOBIN   INR  LACTATE  PLATELET  ...  \\\n",
       "patientunitstayid                                                   ...   \n",
       "141266                   33.4         9.5  1.10      4.5     283.0  ...   \n",
       "141266                    NaN         NaN   NaN      NaN       NaN  ...   \n",
       "141266                    NaN         NaN   NaN      NaN       NaN  ...   \n",
       "141266                    NaN         NaN   NaN      NaN       NaN  ...   \n",
       "141266                    NaN         NaN   NaN      NaN       NaN  ...   \n",
       "...                       ...         ...   ...      ...       ...  ...   \n",
       "3353254                  33.0        10.9  1.03      1.3     268.0  ...   \n",
       "3353254                   NaN         NaN   NaN      NaN       NaN  ...   \n",
       "3353254                   NaN         NaN   NaN      NaN       NaN  ...   \n",
       "3353254                   NaN         NaN   NaN      NaN       NaN  ...   \n",
       "3353254                   NaN         NaN   NaN      NaN       NaN  ...   \n",
       "\n",
       "                       TempC  HEARTRATE   RespRate       SysBP  DiasBP  \\\n",
       "patientunitstayid                                                        \n",
       "141266                   NaN        NaN        NaN         NaN     NaN   \n",
       "141266                   NaN  96.333333  28.000000         NaN     NaN   \n",
       "141266                   NaN  93.583333  21.500000  101.000000   63.00   \n",
       "141266             37.400000  93.083333  19.083333   94.000000   54.50   \n",
       "141266             37.508333  87.250000  14.166667   86.000000   57.00   \n",
       "...                      ...        ...        ...         ...     ...   \n",
       "3353254                  NaN        NaN        NaN         NaN     NaN   \n",
       "3353254                  NaN  75.750000  21.250000  128.500000   66.50   \n",
       "3353254                  NaN  78.500000  22.750000   96.833333   58.00   \n",
       "3353254                  NaN  75.416667  22.833333  130.000000   76.25   \n",
       "3353254                  NaN  75.916667  22.416667  136.000000   70.00   \n",
       "\n",
       "                      MeanBP  crystalloid_bolus  gender  admission_age  time  \n",
       "patientunitstayid                                                             \n",
       "141266                   NaN              100.0    Male             73  -1.0  \n",
       "141266                   NaN                NaN    Male             73   0.0  \n",
       "141266             78.000000                NaN    Male             73   1.0  \n",
       "141266             68.500000                NaN    Male             73   2.0  \n",
       "141266             67.000000              220.0    Male             73   3.0  \n",
       "...                      ...                ...     ...            ...   ...  \n",
       "3353254                  NaN                0.0    Male             81  -1.0  \n",
       "3353254            89.500000                0.0    Male             81   0.0  \n",
       "3353254            71.666667                NaN    Male             81   1.0  \n",
       "3353254            97.000000                NaN    Male             81   2.0  \n",
       "3353254            95.500000                NaN    Male             81   3.0  \n",
       "\n",
       "[48839 rows x 24 columns]"
      ]
     },
     "execution_count": 21,
     "metadata": {},
     "output_type": "execute_result"
    }
   ],
   "source": [
    "final_x = pd.concat([pre_x,final],sort = True)\n",
    "\n",
    "#reorder columns and rows\n",
    "final_x = final_x[pre_x.columns]\n",
    "final_x.sort_values(by=['patientunitstayid','time'])"
   ]
  },
  {
   "cell_type": "markdown",
   "metadata": {},
   "source": [
    "Let us now recode sex and age in numeric values and remove patients of unkonw gender"
   ]
  },
  {
   "cell_type": "code",
   "execution_count": 22,
   "metadata": {},
   "outputs": [],
   "source": [
    "#gender\n",
    "final_x = final_x[final_x.gender != 'Unknown']\n",
    "final_x.replace('Male',0,inplace=True)\n",
    "final_x.replace('Female',1,inplace=True)\n",
    "final_x.gender = final_x.gender.astype('float')\n",
    "\n",
    "#age\n",
    "final_x.replace('> 89',90,inplace=True)\n",
    "final_x.admission_age = final_x.admission_age.astype('float')"
   ]
  },
  {
   "cell_type": "code",
   "execution_count": 23,
   "metadata": {},
   "outputs": [],
   "source": [
    "new = final_x.groupby(by=['patientunitstayid','time']).mean().reset_index()"
   ]
  },
  {
   "cell_type": "code",
   "execution_count": 24,
   "metadata": {},
   "outputs": [],
   "source": [
    "new.set_index('patientunitstayid',inplace = True)"
   ]
  },
  {
   "cell_type": "markdown",
   "metadata": {},
   "source": [
    "Now we need to uniform the data format and add missing values records where needed. The command below adds an empty line for the hours in which we don't have any kind of information"
   ]
  },
  {
   "cell_type": "code",
   "execution_count": 25,
   "metadata": {},
   "outputs": [],
   "source": [
    "time = [-1,0,1,2,3]\n",
    "for i in new.index.unique():\n",
    "    try:\n",
    "        if new.loc[i].time.shape[0] !=5:\n",
    "            missing = [x for x in time if x not in new.loc[i].time.values]\n",
    "            df = pd.DataFrame(missing, columns = ['time'],index = [i]*len(missing))\n",
    "            new = pd.concat([new,df])\n",
    "    except:\n",
    "        missing = [x for x in time if x not in new.loc[i].time.reshape(-1,1)]\n",
    "        df = pd.DataFrame(missing, columns = ['time'],index = [i]*len(missing))\n",
    "        new = pd.concat([new,df])\n",
    "        \n",
    "#since we added new timeslots we need to reorder the dataset\n",
    "new['temp_axis'] = new.index\n",
    "\n",
    "new.sort_values(by=['temp_axis','time'],inplace=True)\n",
    "new.drop('temp_axis',axis=1,inplace=True)"
   ]
  },
  {
   "cell_type": "markdown",
   "metadata": {},
   "source": [
    "Since we adess empyt lines we need to fix static variables such as gender and age"
   ]
  },
  {
   "cell_type": "code",
   "execution_count": 26,
   "metadata": {},
   "outputs": [
    {
     "name": "stderr",
     "output_type": "stream",
     "text": [
      "/home/mrcharles/anaconda3/envs/tensorflow/lib/python3.6/site-packages/ipykernel_launcher.py:2: RuntimeWarning: Mean of empty slice\n",
      "  \n",
      "/home/mrcharles/anaconda3/envs/tensorflow/lib/python3.6/site-packages/ipykernel_launcher.py:5: RuntimeWarning: Mean of empty slice\n",
      "  \"\"\"\n"
     ]
    }
   ],
   "source": [
    "for i in new.index.unique(): \n",
    "    new.loc[i,['gender']] =np.nanmean(new.loc[i,['gender']])\n",
    "    \n",
    "for i in new.index.unique(): \n",
    "    new.loc[i,['admission_age']] =np.nanmean(new.loc[i,['admission_age']])"
   ]
  },
  {
   "cell_type": "markdown",
   "metadata": {},
   "source": [
    "We drop patients without age and gender"
   ]
  },
  {
   "cell_type": "code",
   "execution_count": 27,
   "metadata": {},
   "outputs": [],
   "source": [
    "to_drop = []\n",
    "\n",
    "for i in new.index.unique():\n",
    "    if(sum(new.loc[i].gender.isna().values)!=0): to_drop.append(i)\n",
    "        \n",
    "missing_age = []\n",
    "\n",
    "for i in new.index.unique():\n",
    "    if(sum(new.loc[i].admission_age.isna().values)!=0): to_drop.append(i)\n",
    "        \n",
    "new.drop(to_drop,inplace=True)"
   ]
  },
  {
   "cell_type": "code",
   "execution_count": 28,
   "metadata": {},
   "outputs": [
    {
     "data": {
      "text/plain": [
       "52590"
      ]
     },
     "execution_count": 28,
     "metadata": {},
     "output_type": "execute_result"
    }
   ],
   "source": [
    "new.time.value_counts().sum()"
   ]
  },
  {
   "cell_type": "markdown",
   "metadata": {},
   "source": [
    "### 3.4 Missing imputation"
   ]
  },
  {
   "cell_type": "markdown",
   "metadata": {},
   "source": [
    "We start by imputing the hour prior to ICU entering"
   ]
  },
  {
   "cell_type": "code",
   "execution_count": 29,
   "metadata": {},
   "outputs": [
    {
     "name": "stderr",
     "output_type": "stream",
     "text": [
      "100%|██████████| 10518/10518 [01:43<00:00, 101.26it/s]\n"
     ]
    }
   ],
   "source": [
    "#LABS - compute values to impute\n",
    "pre_imputation=[\n",
    "('ALBUMIN',np.nanmedian),\n",
    "('BUN',np.nanmedian),\n",
    "('CREATININE',np.nanmedian),\n",
    "('GLUCOSE',np.nanmedian),\n",
    "('BICARBONATE',np.nanmedian),\n",
    "('HEMATOCRIT',np.nanmedian),\n",
    "('HEMOGLOBIN',np.nanmedian),\n",
    "('INR',np.nanmedian),\n",
    "('LACTATE',np.nanmedian),\n",
    "('PLATELET',np.nanmedian),\n",
    "('POTASSIUM',np.nanmedian),\n",
    "('PTT',np.nanmedian),\n",
    "('WBC',np.nanmedian)\n",
    "]\n",
    "\n",
    "#save them in a dictionary\n",
    "imputation_value_dict = {}\n",
    "\n",
    "for i,j in pre_imputation:\n",
    "    imputation_value_dict[i] = j(new[new['time']==-1][i].values)\n",
    "\n",
    "#impute values\n",
    "for j in tqdm.tqdm(new.index.unique()):\n",
    "    \n",
    "    for i,_ in pre_imputation:\n",
    "        \n",
    "        if(math.isnan(new.loc[(new.index==j) & (new.time==-1),i].values)):\n",
    "            new.loc[(new.index==j) & (new.time==-1),i]=imputation_value_dict[i]"
   ]
  },
  {
   "cell_type": "markdown",
   "metadata": {},
   "source": [
    "As a first step we have to impute vitals values for the -1 hour. We do that by using the median of the values at 0."
   ]
  },
  {
   "cell_type": "code",
   "execution_count": 30,
   "metadata": {},
   "outputs": [
    {
     "name": "stderr",
     "output_type": "stream",
     "text": [
      "100%|██████████| 10518/10518 [01:23<00:00, 126.24it/s]\n"
     ]
    }
   ],
   "source": [
    "#VITALS - compute the values to impute\n",
    "periodic_pre_impute=[\n",
    "('TempC',np.nanmedian),\n",
    "('HEARTRATE',np.nanmedian),\n",
    "('RespRate',np.nanmedian),\n",
    "('SysBP',np.nanmedian),\n",
    "('DiasBP',np.nanmedian),\n",
    "('MeanBP',np.nanmedian)\n",
    "]\n",
    "\n",
    "imputation_value_dict = {}\n",
    "\n",
    "#compute the values to impute from next hour\n",
    "for i,j in periodic_pre_impute:\n",
    "    imputation_value_dict[i] = j(new[new['time']==0][i].values)\n",
    "\n",
    "    \n",
    "#impute values    \n",
    "for j in tqdm.tqdm(new.index.unique()):\n",
    "    \n",
    "    for i,_ in periodic_pre_impute:\n",
    "        \n",
    "        if(math.isnan(new.loc[(new.index==j) & (new.time==-1),i].values)):\n",
    "            new.loc[(new.index==j) & (new.time==-1),i]=imputation_value_dict[i]\n",
    "  "
   ]
  },
  {
   "cell_type": "markdown",
   "metadata": {},
   "source": [
    "Let us first impute the values that are not meant to be forward filled, namely AmountTransfused and crystalloid_bolus"
   ]
  },
  {
   "cell_type": "code",
   "execution_count": 31,
   "metadata": {},
   "outputs": [],
   "source": [
    "new['crystalloid_bolus'].fillna(0,inplace=True)\n",
    "new['AmountTransfused'].fillna(0,inplace=True)"
   ]
  },
  {
   "cell_type": "markdown",
   "metadata": {},
   "source": [
    "Let us now dynamically impute the remaining values"
   ]
  },
  {
   "cell_type": "code",
   "execution_count": 32,
   "metadata": {},
   "outputs": [
    {
     "name": "stderr",
     "output_type": "stream",
     "text": [
      "100%|██████████| 10518/10518 [00:05<00:00, 1885.79it/s]\n"
     ]
    }
   ],
   "source": [
    "for i in tqdm.tqdm(new.index.unique()):\n",
    "    new.loc[i]=new.loc[i].fillna(method='ffill')"
   ]
  },
  {
   "cell_type": "code",
   "execution_count": 33,
   "metadata": {},
   "outputs": [
    {
     "data": {
      "text/plain": [
       "Index(['time', 'ALBUMIN', 'BUN', 'CREATININE', 'GLUCOSE', 'BICARBONATE',\n",
       "       'HEMATOCRIT', 'HEMOGLOBIN', 'INR', 'LACTATE', 'PLATELET', 'POTASSIUM',\n",
       "       'PTT', 'WBC', 'AmountTransfused', 'TempC', 'HEARTRATE', 'RespRate',\n",
       "       'SysBP', 'DiasBP', 'MeanBP', 'crystalloid_bolus', 'gender',\n",
       "       'admission_age'],\n",
       "      dtype='object')"
      ]
     },
     "execution_count": 33,
     "metadata": {},
     "output_type": "execute_result"
    }
   ],
   "source": [
    "new.columns"
   ]
  },
  {
   "cell_type": "code",
   "execution_count": 34,
   "metadata": {},
   "outputs": [],
   "source": [
    "#raw export\n",
    "new.to_csv('raw_x_0_3_eICU.csv')"
   ]
  },
  {
   "cell_type": "markdown",
   "metadata": {},
   "source": [
    "### 3.5 Feature collapsing"
   ]
  },
  {
   "cell_type": "markdown",
   "metadata": {},
   "source": [
    "Let us now collapse the time series featrues in one unique observations according to the criteria chosen below"
   ]
  },
  {
   "cell_type": "code",
   "execution_count": 35,
   "metadata": {},
   "outputs": [],
   "source": [
    "collapsed = pd.DataFrame(index=new.index.unique())\n",
    "\n",
    "features_list = [\n",
    "    #('gender', np.nanmin),\n",
    "    ('ALBUMIN',np.nanmean),\n",
    "    ('BUN', np.nanmax),\n",
    "    ('CREATININE', np.nanmax),\n",
    "    ('GLUCOSE',np.nanmean),\n",
    "    ('BICARBONATE', np.nanmin),\n",
    "    ('HEMATOCRIT', np.nanmin),\n",
    "    ('HEMOGLOBIN', np.nanmin),\n",
    "    ('INR',np.nanmean),\n",
    "    ('LACTATE',np.nanmean),\n",
    "    ('PLATELET', np.nanmin),\n",
    "    ('POTASSIUM', np.nanmax),\n",
    "    ('PTT', np.nanmax),\n",
    "    ('WBC', np.nanmean),\n",
    "    ('AmountTransfused', np.nansum),\n",
    "    ('TempC', np.nanmin),\n",
    "    ('HEARTRATE', np.nanmax),\n",
    "    ('RespRate', np.nanmax),\n",
    "    ('SysBP', np.nanmin),\n",
    "    ('DiasBP',np.nanmean),\n",
    "    ('MeanBP', np.nanmean),\n",
    "    ('crystalloid_bolus',np.nansum),\n",
    "    ('gender',np.nanmin),\n",
    "    ('admission_age', np.nanmin),\n",
    "]\n",
    "\n",
    "\n",
    "to_concat = []\n",
    "grouped = new.groupby(new.index)\n",
    "for feature, function in features_list:\n",
    "    to_concat.append(grouped[[feature]].apply(function))\n",
    "  \n",
    "collapsed = pd.concat([collapsed] + to_concat, axis=1, join='inner')\n",
    "\n",
    "col_names =[x[0] for x in features_list]\n",
    "collapsed.columns = col_names"
   ]
  },
  {
   "cell_type": "code",
   "execution_count": 36,
   "metadata": {},
   "outputs": [
    {
     "data": {
      "text/html": [
       "<div>\n",
       "<style scoped>\n",
       "    .dataframe tbody tr th:only-of-type {\n",
       "        vertical-align: middle;\n",
       "    }\n",
       "\n",
       "    .dataframe tbody tr th {\n",
       "        vertical-align: top;\n",
       "    }\n",
       "\n",
       "    .dataframe thead th {\n",
       "        text-align: right;\n",
       "    }\n",
       "</style>\n",
       "<table border=\"1\" class=\"dataframe\">\n",
       "  <thead>\n",
       "    <tr style=\"text-align: right;\">\n",
       "      <th></th>\n",
       "      <th>ALBUMIN</th>\n",
       "      <th>BUN</th>\n",
       "      <th>CREATININE</th>\n",
       "      <th>GLUCOSE</th>\n",
       "      <th>BICARBONATE</th>\n",
       "      <th>HEMATOCRIT</th>\n",
       "      <th>HEMOGLOBIN</th>\n",
       "      <th>INR</th>\n",
       "      <th>LACTATE</th>\n",
       "      <th>PLATELET</th>\n",
       "      <th>...</th>\n",
       "      <th>AmountTransfused</th>\n",
       "      <th>TempC</th>\n",
       "      <th>HEARTRATE</th>\n",
       "      <th>RespRate</th>\n",
       "      <th>SysBP</th>\n",
       "      <th>DiasBP</th>\n",
       "      <th>MeanBP</th>\n",
       "      <th>crystalloid_bolus</th>\n",
       "      <th>gender</th>\n",
       "      <th>admission_age</th>\n",
       "    </tr>\n",
       "  </thead>\n",
       "  <tbody>\n",
       "    <tr>\n",
       "      <th>141266</th>\n",
       "      <td>3.60</td>\n",
       "      <td>29.0</td>\n",
       "      <td>1.90</td>\n",
       "      <td>274.880000</td>\n",
       "      <td>29.0</td>\n",
       "      <td>33.4</td>\n",
       "      <td>9.5</td>\n",
       "      <td>1.100</td>\n",
       "      <td>4.50</td>\n",
       "      <td>283.0</td>\n",
       "      <td>...</td>\n",
       "      <td>0.00</td>\n",
       "      <td>36.533333</td>\n",
       "      <td>96.333333</td>\n",
       "      <td>28.000000</td>\n",
       "      <td>86.000000</td>\n",
       "      <td>59.700000</td>\n",
       "      <td>73.766667</td>\n",
       "      <td>320.00</td>\n",
       "      <td>0.0</td>\n",
       "      <td>73.0</td>\n",
       "    </tr>\n",
       "    <tr>\n",
       "      <th>141631</th>\n",
       "      <td>3.40</td>\n",
       "      <td>30.0</td>\n",
       "      <td>1.23</td>\n",
       "      <td>131.800000</td>\n",
       "      <td>29.0</td>\n",
       "      <td>40.6</td>\n",
       "      <td>14.1</td>\n",
       "      <td>1.200</td>\n",
       "      <td>2.50</td>\n",
       "      <td>212.0</td>\n",
       "      <td>...</td>\n",
       "      <td>0.00</td>\n",
       "      <td>36.533333</td>\n",
       "      <td>119.000000</td>\n",
       "      <td>19.200000</td>\n",
       "      <td>115.750000</td>\n",
       "      <td>95.600000</td>\n",
       "      <td>117.133333</td>\n",
       "      <td>0.00</td>\n",
       "      <td>0.0</td>\n",
       "      <td>45.0</td>\n",
       "    </tr>\n",
       "    <tr>\n",
       "      <th>141945</th>\n",
       "      <td>3.00</td>\n",
       "      <td>54.0</td>\n",
       "      <td>3.86</td>\n",
       "      <td>130.000000</td>\n",
       "      <td>34.0</td>\n",
       "      <td>20.9</td>\n",
       "      <td>6.5</td>\n",
       "      <td>1.100</td>\n",
       "      <td>2.50</td>\n",
       "      <td>191.0</td>\n",
       "      <td>...</td>\n",
       "      <td>0.00</td>\n",
       "      <td>36.533333</td>\n",
       "      <td>89.600000</td>\n",
       "      <td>23.666667</td>\n",
       "      <td>92.750000</td>\n",
       "      <td>55.850000</td>\n",
       "      <td>71.333333</td>\n",
       "      <td>0.00</td>\n",
       "      <td>1.0</td>\n",
       "      <td>72.0</td>\n",
       "    </tr>\n",
       "    <tr>\n",
       "      <th>142096</th>\n",
       "      <td>2.50</td>\n",
       "      <td>33.0</td>\n",
       "      <td>0.87</td>\n",
       "      <td>101.000000</td>\n",
       "      <td>22.0</td>\n",
       "      <td>28.7</td>\n",
       "      <td>9.3</td>\n",
       "      <td>1.600</td>\n",
       "      <td>2.50</td>\n",
       "      <td>103.0</td>\n",
       "      <td>...</td>\n",
       "      <td>0.00</td>\n",
       "      <td>36.533333</td>\n",
       "      <td>110.500000</td>\n",
       "      <td>24.200000</td>\n",
       "      <td>106.000000</td>\n",
       "      <td>68.700000</td>\n",
       "      <td>86.016667</td>\n",
       "      <td>0.00</td>\n",
       "      <td>0.0</td>\n",
       "      <td>54.0</td>\n",
       "    </tr>\n",
       "    <tr>\n",
       "      <th>142478</th>\n",
       "      <td>3.00</td>\n",
       "      <td>38.0</td>\n",
       "      <td>1.20</td>\n",
       "      <td>113.400000</td>\n",
       "      <td>29.0</td>\n",
       "      <td>23.9</td>\n",
       "      <td>8.0</td>\n",
       "      <td>1.100</td>\n",
       "      <td>2.50</td>\n",
       "      <td>362.0</td>\n",
       "      <td>...</td>\n",
       "      <td>197.00</td>\n",
       "      <td>36.533333</td>\n",
       "      <td>89.600000</td>\n",
       "      <td>31.571429</td>\n",
       "      <td>115.750000</td>\n",
       "      <td>70.566667</td>\n",
       "      <td>89.300000</td>\n",
       "      <td>600.00</td>\n",
       "      <td>0.0</td>\n",
       "      <td>64.0</td>\n",
       "    </tr>\n",
       "    <tr>\n",
       "      <th>...</th>\n",
       "      <td>...</td>\n",
       "      <td>...</td>\n",
       "      <td>...</td>\n",
       "      <td>...</td>\n",
       "      <td>...</td>\n",
       "      <td>...</td>\n",
       "      <td>...</td>\n",
       "      <td>...</td>\n",
       "      <td>...</td>\n",
       "      <td>...</td>\n",
       "      <td>...</td>\n",
       "      <td>...</td>\n",
       "      <td>...</td>\n",
       "      <td>...</td>\n",
       "      <td>...</td>\n",
       "      <td>...</td>\n",
       "      <td>...</td>\n",
       "      <td>...</td>\n",
       "      <td>...</td>\n",
       "      <td>...</td>\n",
       "      <td>...</td>\n",
       "    </tr>\n",
       "    <tr>\n",
       "      <th>3353038</th>\n",
       "      <td>4.26</td>\n",
       "      <td>14.0</td>\n",
       "      <td>0.66</td>\n",
       "      <td>107.200000</td>\n",
       "      <td>21.0</td>\n",
       "      <td>31.0</td>\n",
       "      <td>10.3</td>\n",
       "      <td>1.100</td>\n",
       "      <td>1.48</td>\n",
       "      <td>318.0</td>\n",
       "      <td>...</td>\n",
       "      <td>0.00</td>\n",
       "      <td>36.533333</td>\n",
       "      <td>91.750000</td>\n",
       "      <td>29.916667</td>\n",
       "      <td>115.750000</td>\n",
       "      <td>74.900000</td>\n",
       "      <td>89.266667</td>\n",
       "      <td>0.00</td>\n",
       "      <td>1.0</td>\n",
       "      <td>27.0</td>\n",
       "    </tr>\n",
       "    <tr>\n",
       "      <th>3353065</th>\n",
       "      <td>3.10</td>\n",
       "      <td>76.0</td>\n",
       "      <td>1.62</td>\n",
       "      <td>127.000000</td>\n",
       "      <td>25.0</td>\n",
       "      <td>11.0</td>\n",
       "      <td>3.6</td>\n",
       "      <td>1.200</td>\n",
       "      <td>2.50</td>\n",
       "      <td>423.0</td>\n",
       "      <td>...</td>\n",
       "      <td>833.33</td>\n",
       "      <td>36.533333</td>\n",
       "      <td>92.166667</td>\n",
       "      <td>33.272727</td>\n",
       "      <td>99.000000</td>\n",
       "      <td>57.850000</td>\n",
       "      <td>78.683333</td>\n",
       "      <td>0.00</td>\n",
       "      <td>0.0</td>\n",
       "      <td>62.0</td>\n",
       "    </tr>\n",
       "    <tr>\n",
       "      <th>3353116</th>\n",
       "      <td>2.70</td>\n",
       "      <td>68.0</td>\n",
       "      <td>1.72</td>\n",
       "      <td>192.166667</td>\n",
       "      <td>19.0</td>\n",
       "      <td>26.5</td>\n",
       "      <td>8.6</td>\n",
       "      <td>1.146</td>\n",
       "      <td>2.02</td>\n",
       "      <td>210.0</td>\n",
       "      <td>...</td>\n",
       "      <td>0.00</td>\n",
       "      <td>36.533333</td>\n",
       "      <td>113.500000</td>\n",
       "      <td>25.000000</td>\n",
       "      <td>79.714286</td>\n",
       "      <td>54.244048</td>\n",
       "      <td>68.241667</td>\n",
       "      <td>559.49</td>\n",
       "      <td>0.0</td>\n",
       "      <td>85.0</td>\n",
       "    </tr>\n",
       "    <tr>\n",
       "      <th>3353140</th>\n",
       "      <td>3.70</td>\n",
       "      <td>17.0</td>\n",
       "      <td>1.04</td>\n",
       "      <td>139.000000</td>\n",
       "      <td>31.0</td>\n",
       "      <td>35.0</td>\n",
       "      <td>11.6</td>\n",
       "      <td>1.040</td>\n",
       "      <td>2.50</td>\n",
       "      <td>238.0</td>\n",
       "      <td>...</td>\n",
       "      <td>0.00</td>\n",
       "      <td>36.533333</td>\n",
       "      <td>89.600000</td>\n",
       "      <td>27.666667</td>\n",
       "      <td>115.750000</td>\n",
       "      <td>62.600000</td>\n",
       "      <td>87.333333</td>\n",
       "      <td>0.00</td>\n",
       "      <td>1.0</td>\n",
       "      <td>90.0</td>\n",
       "    </tr>\n",
       "    <tr>\n",
       "      <th>3353254</th>\n",
       "      <td>3.90</td>\n",
       "      <td>42.0</td>\n",
       "      <td>2.38</td>\n",
       "      <td>181.000000</td>\n",
       "      <td>24.0</td>\n",
       "      <td>33.0</td>\n",
       "      <td>10.9</td>\n",
       "      <td>1.030</td>\n",
       "      <td>1.30</td>\n",
       "      <td>268.0</td>\n",
       "      <td>...</td>\n",
       "      <td>300.00</td>\n",
       "      <td>36.533333</td>\n",
       "      <td>89.600000</td>\n",
       "      <td>22.833333</td>\n",
       "      <td>96.833333</td>\n",
       "      <td>66.550000</td>\n",
       "      <td>86.266667</td>\n",
       "      <td>0.00</td>\n",
       "      <td>0.0</td>\n",
       "      <td>81.0</td>\n",
       "    </tr>\n",
       "  </tbody>\n",
       "</table>\n",
       "<p>10518 rows × 23 columns</p>\n",
       "</div>"
      ],
      "text/plain": [
       "         ALBUMIN   BUN  CREATININE     GLUCOSE  BICARBONATE  HEMATOCRIT  \\\n",
       "141266      3.60  29.0        1.90  274.880000         29.0        33.4   \n",
       "141631      3.40  30.0        1.23  131.800000         29.0        40.6   \n",
       "141945      3.00  54.0        3.86  130.000000         34.0        20.9   \n",
       "142096      2.50  33.0        0.87  101.000000         22.0        28.7   \n",
       "142478      3.00  38.0        1.20  113.400000         29.0        23.9   \n",
       "...          ...   ...         ...         ...          ...         ...   \n",
       "3353038     4.26  14.0        0.66  107.200000         21.0        31.0   \n",
       "3353065     3.10  76.0        1.62  127.000000         25.0        11.0   \n",
       "3353116     2.70  68.0        1.72  192.166667         19.0        26.5   \n",
       "3353140     3.70  17.0        1.04  139.000000         31.0        35.0   \n",
       "3353254     3.90  42.0        2.38  181.000000         24.0        33.0   \n",
       "\n",
       "         HEMOGLOBIN    INR  LACTATE  PLATELET  ...  AmountTransfused  \\\n",
       "141266          9.5  1.100     4.50     283.0  ...              0.00   \n",
       "141631         14.1  1.200     2.50     212.0  ...              0.00   \n",
       "141945          6.5  1.100     2.50     191.0  ...              0.00   \n",
       "142096          9.3  1.600     2.50     103.0  ...              0.00   \n",
       "142478          8.0  1.100     2.50     362.0  ...            197.00   \n",
       "...             ...    ...      ...       ...  ...               ...   \n",
       "3353038        10.3  1.100     1.48     318.0  ...              0.00   \n",
       "3353065         3.6  1.200     2.50     423.0  ...            833.33   \n",
       "3353116         8.6  1.146     2.02     210.0  ...              0.00   \n",
       "3353140        11.6  1.040     2.50     238.0  ...              0.00   \n",
       "3353254        10.9  1.030     1.30     268.0  ...            300.00   \n",
       "\n",
       "             TempC   HEARTRATE   RespRate       SysBP     DiasBP      MeanBP  \\\n",
       "141266   36.533333   96.333333  28.000000   86.000000  59.700000   73.766667   \n",
       "141631   36.533333  119.000000  19.200000  115.750000  95.600000  117.133333   \n",
       "141945   36.533333   89.600000  23.666667   92.750000  55.850000   71.333333   \n",
       "142096   36.533333  110.500000  24.200000  106.000000  68.700000   86.016667   \n",
       "142478   36.533333   89.600000  31.571429  115.750000  70.566667   89.300000   \n",
       "...            ...         ...        ...         ...        ...         ...   \n",
       "3353038  36.533333   91.750000  29.916667  115.750000  74.900000   89.266667   \n",
       "3353065  36.533333   92.166667  33.272727   99.000000  57.850000   78.683333   \n",
       "3353116  36.533333  113.500000  25.000000   79.714286  54.244048   68.241667   \n",
       "3353140  36.533333   89.600000  27.666667  115.750000  62.600000   87.333333   \n",
       "3353254  36.533333   89.600000  22.833333   96.833333  66.550000   86.266667   \n",
       "\n",
       "         crystalloid_bolus  gender  admission_age  \n",
       "141266              320.00     0.0           73.0  \n",
       "141631                0.00     0.0           45.0  \n",
       "141945                0.00     1.0           72.0  \n",
       "142096                0.00     0.0           54.0  \n",
       "142478              600.00     0.0           64.0  \n",
       "...                    ...     ...            ...  \n",
       "3353038               0.00     1.0           27.0  \n",
       "3353065               0.00     0.0           62.0  \n",
       "3353116             559.49     0.0           85.0  \n",
       "3353140               0.00     1.0           90.0  \n",
       "3353254               0.00     0.0           81.0  \n",
       "\n",
       "[10518 rows x 23 columns]"
      ]
     },
     "execution_count": 36,
     "metadata": {},
     "output_type": "execute_result"
    }
   ],
   "source": [
    "collapsed"
   ]
  },
  {
   "cell_type": "markdown",
   "metadata": {},
   "source": [
    "### 3.6 Feature engineering"
   ]
  },
  {
   "cell_type": "markdown",
   "metadata": {},
   "source": [
    "We now add additional features in order to improve the performance of the classifier and capture temporal patterns. Namely we compute the inercept and slope of a lienar fit on the time series available. Before doing so we need to recode the informations about age and gender in order to exclude them in the subsequent analysis\n"
   ]
  },
  {
   "cell_type": "code",
   "execution_count": 37,
   "metadata": {},
   "outputs": [],
   "source": [
    "new['gender'] = new['gender'].astype('int')\n",
    "new['admission_age'] = new['admission_age'].astype('int')"
   ]
  },
  {
   "cell_type": "markdown",
   "metadata": {},
   "source": [
    "Compute now the new features"
   ]
  },
  {
   "cell_type": "code",
   "execution_count": 38,
   "metadata": {},
   "outputs": [
    {
     "name": "stdout",
     "output_type": "stream",
     "text": [
      "time\n",
      "ALBUMIN\n",
      "BUN\n",
      "CREATININE\n",
      "GLUCOSE\n",
      "BICARBONATE\n",
      "HEMATOCRIT\n",
      "HEMOGLOBIN\n",
      "INR\n",
      "LACTATE\n",
      "PLATELET\n",
      "POTASSIUM\n",
      "PTT\n",
      "WBC\n",
      "AmountTransfused\n",
      "TempC\n",
      "HEARTRATE\n",
      "RespRate\n",
      "SysBP\n",
      "DiasBP\n",
      "MeanBP\n",
      "crystalloid_bolus\n"
     ]
    }
   ],
   "source": [
    "#trend features\n",
    "trend_features = pd.DataFrame(index=new.index.unique())\n",
    "\n",
    "import warnings\n",
    "with warnings.catch_warnings():\n",
    "    \n",
    "    warnings.simplefilter(\"ignore\")\n",
    "    \n",
    "    exclusion_list = ['time','AmountTransfused','crystalloid_bolus']\n",
    "    \n",
    "    #select the columns of which we should make feature engineering\n",
    "    for col in new.select_dtypes('float').columns.tolist():\n",
    "        \n",
    "        print(col)\n",
    "        list_fit=[]\n",
    "        \n",
    "        if(col not in exclusion_list):\n",
    "        \n",
    "            #for each patient compute intercept and slope\n",
    "            for ind in new.index.unique():\n",
    "\n",
    "                    temp=new.loc[ind]\n",
    "                    \n",
    "\n",
    "                    value = np.polyfit(temp[col],temp.time,1)\n",
    "                    list_fit.append(value)\n",
    "\n",
    "\n",
    "            #make the labels\n",
    "            label_slope = 'slope_'+col\n",
    "            label_int = 'intercept_'+col\n",
    "\n",
    "            #add the features\n",
    "            trend_features[label_int] = [x[0] for x in list_fit]\n",
    "            trend_features[label_slope] = [x[1] for x in list_fit]\n",
    "            \n",
    "        else:\n",
    "            \n",
    "            pass"
   ]
  },
  {
   "cell_type": "markdown",
   "metadata": {},
   "source": [
    "### 3.7 Final feature merging"
   ]
  },
  {
   "cell_type": "code",
   "execution_count": 39,
   "metadata": {},
   "outputs": [],
   "source": [
    "to_export = pd.concat([collapsed] + [trend_features] , axis=1, join='inner')"
   ]
  },
  {
   "cell_type": "code",
   "execution_count": 40,
   "metadata": {},
   "outputs": [
    {
     "data": {
      "text/plain": [
       "Index(['ALBUMIN', 'BUN', 'CREATININE', 'GLUCOSE', 'BICARBONATE', 'HEMATOCRIT',\n",
       "       'HEMOGLOBIN', 'INR', 'LACTATE', 'PLATELET', 'POTASSIUM', 'PTT', 'WBC',\n",
       "       'AmountTransfused', 'TempC', 'HEARTRATE', 'RespRate', 'SysBP', 'DiasBP',\n",
       "       'MeanBP', 'crystalloid_bolus', 'gender', 'admission_age',\n",
       "       'intercept_ALBUMIN', 'slope_ALBUMIN', 'intercept_BUN', 'slope_BUN',\n",
       "       'intercept_CREATININE', 'slope_CREATININE', 'intercept_GLUCOSE',\n",
       "       'slope_GLUCOSE', 'intercept_BICARBONATE', 'slope_BICARBONATE',\n",
       "       'intercept_HEMATOCRIT', 'slope_HEMATOCRIT', 'intercept_HEMOGLOBIN',\n",
       "       'slope_HEMOGLOBIN', 'intercept_INR', 'slope_INR', 'intercept_LACTATE',\n",
       "       'slope_LACTATE', 'intercept_PLATELET', 'slope_PLATELET',\n",
       "       'intercept_POTASSIUM', 'slope_POTASSIUM', 'intercept_PTT', 'slope_PTT',\n",
       "       'intercept_WBC', 'slope_WBC', 'intercept_TempC', 'slope_TempC',\n",
       "       'intercept_HEARTRATE', 'slope_HEARTRATE', 'intercept_RespRate',\n",
       "       'slope_RespRate', 'intercept_SysBP', 'slope_SysBP', 'intercept_DiasBP',\n",
       "       'slope_DiasBP', 'intercept_MeanBP', 'slope_MeanBP'],\n",
       "      dtype='object')"
      ]
     },
     "execution_count": 40,
     "metadata": {},
     "output_type": "execute_result"
    }
   ],
   "source": [
    "to_export.columns"
   ]
  },
  {
   "cell_type": "markdown",
   "metadata": {},
   "source": [
    "### 3.8 Making the y's"
   ]
  },
  {
   "cell_type": "code",
   "execution_count": 41,
   "metadata": {},
   "outputs": [],
   "source": [
    "to_drop = future_checker(dataset,4)"
   ]
  },
  {
   "cell_type": "code",
   "execution_count": 42,
   "metadata": {},
   "outputs": [],
   "source": [
    "y = dataset[dataset.time>=4]"
   ]
  },
  {
   "cell_type": "code",
   "execution_count": 43,
   "metadata": {},
   "outputs": [
    {
     "data": {
      "text/plain": [
       "Index(['ALBUMIN', 'BUN', 'CREATININE', 'GLUCOSE', 'BICARBONATE', 'HEMATOCRIT',\n",
       "       'HEMOGLOBIN', 'INR', 'LACTATE', 'PLATELET', 'POTASSIUM', 'PTT', 'WBC',\n",
       "       'time', 'AmountTransfused', 'TempC', 'HEARTRATE', 'RespRate', 'SysBP',\n",
       "       'DiasBP', 'MeanBP', 'crystalloid_bolus', 'gender', 'admission_age'],\n",
       "      dtype='object')"
      ]
     },
     "execution_count": 43,
     "metadata": {},
     "output_type": "execute_result"
    }
   ],
   "source": [
    "y.columns"
   ]
  },
  {
   "cell_type": "markdown",
   "metadata": {},
   "source": [
    "Before starting we have to check wheter, for some patients, there could be no data after the 3rd hour of ICU. Those patients are to be removed both from Xs and ys"
   ]
  },
  {
   "cell_type": "markdown",
   "metadata": {},
   "source": [
    "Remove those indexes"
   ]
  },
  {
   "cell_type": "code",
   "execution_count": 44,
   "metadata": {},
   "outputs": [],
   "source": [
    "X= to_export.drop(to_drop)"
   ]
  },
  {
   "cell_type": "markdown",
   "metadata": {},
   "source": [
    "Create than the y by looking who has a positive amount of blood transfusion"
   ]
  },
  {
   "cell_type": "code",
   "execution_count": 45,
   "metadata": {},
   "outputs": [
    {
     "name": "stderr",
     "output_type": "stream",
     "text": [
      "/home/mrcharles/anaconda3/envs/tensorflow/lib/python3.6/site-packages/ipykernel_launcher.py:1: SettingWithCopyWarning: \n",
      "A value is trying to be set on a copy of a slice from a DataFrame.\n",
      "Try using .loc[row_indexer,col_indexer] = value instead\n",
      "\n",
      "See the caveats in the documentation: https://pandas.pydata.org/pandas-docs/stable/user_guide/indexing.html#returning-a-view-versus-a-copy\n",
      "  \"\"\"Entry point for launching an IPython kernel.\n"
     ]
    }
   ],
   "source": [
    "y['temp_index'] = y.index\n",
    "y=y[['temp_index','AmountTransfused']].groupby(['temp_index']).sum()"
   ]
  },
  {
   "cell_type": "code",
   "execution_count": 46,
   "metadata": {},
   "outputs": [],
   "source": [
    "temp_index = y.index.copy()\n",
    "y = [int(x) for x in (y>0).values]\n",
    "y = pd.Series(y)\n",
    "y.index = temp_index\n",
    "y.name ='outcome'"
   ]
  },
  {
   "cell_type": "markdown",
   "metadata": {},
   "source": [
    "### 3.9 Final checks and export"
   ]
  },
  {
   "cell_type": "code",
   "execution_count": 47,
   "metadata": {},
   "outputs": [],
   "source": [
    "X = X.merge(y,left_index=True,right_index=True)"
   ]
  },
  {
   "cell_type": "code",
   "execution_count": 48,
   "metadata": {},
   "outputs": [],
   "source": [
    "y = X['outcome']\n",
    "X = X.drop('outcome',axis=1)"
   ]
  },
  {
   "cell_type": "code",
   "execution_count": 49,
   "metadata": {},
   "outputs": [
    {
     "data": {
      "text/plain": [
       "(10392, 61)"
      ]
     },
     "execution_count": 49,
     "metadata": {},
     "output_type": "execute_result"
    }
   ],
   "source": [
    "X.shape"
   ]
  },
  {
   "cell_type": "code",
   "execution_count": 50,
   "metadata": {},
   "outputs": [
    {
     "data": {
      "text/plain": [
       "(10392,)"
      ]
     },
     "execution_count": 50,
     "metadata": {},
     "output_type": "execute_result"
    }
   ],
   "source": [
    "y.shape"
   ]
  },
  {
   "cell_type": "code",
   "execution_count": 51,
   "metadata": {},
   "outputs": [],
   "source": [
    "X.to_csv('x_0_3_eICU.csv')\n",
    "y.to_csv('y_4_24_eICU.csv')"
   ]
  },
  {
   "cell_type": "code",
   "execution_count": null,
   "metadata": {},
   "outputs": [],
   "source": []
  },
  {
   "cell_type": "code",
   "execution_count": null,
   "metadata": {},
   "outputs": [],
   "source": []
  },
  {
   "cell_type": "code",
   "execution_count": null,
   "metadata": {},
   "outputs": [],
   "source": []
  },
  {
   "cell_type": "code",
   "execution_count": null,
   "metadata": {},
   "outputs": [],
   "source": []
  },
  {
   "cell_type": "markdown",
   "metadata": {},
   "source": [
    "## High transfusion dataset"
   ]
  },
  {
   "cell_type": "code",
   "execution_count": 52,
   "metadata": {},
   "outputs": [],
   "source": [
    "transfused_idx = y[y==1].index"
   ]
  },
  {
   "cell_type": "code",
   "execution_count": 53,
   "metadata": {},
   "outputs": [],
   "source": [
    "#extract only transfused patients from the whole dataset\n",
    "y_transfused = dataset.loc[transfused_idx].copy()\n",
    "\n",
    "#subset the whole dataset to the columns of intrest\n",
    "y_transfused = y_transfused[['time','AmountTransfused']]\n",
    "\n",
    "#training set identic to the previous, need to extract different y's. Start by subsetting for time\n",
    "y_transfused = y_transfused[y_transfused.time >=4]\n",
    "\n",
    "#creat a temporary feature to use in groupby to aggregate measures\n",
    "y_transfused['temp_index'] = y_transfused.index\n",
    "y_transfused = y_transfused.drop('time',axis=1)\n",
    "y_transfused = y_transfused.groupby('temp_index').sum()"
   ]
  },
  {
   "cell_type": "code",
   "execution_count": 54,
   "metadata": {},
   "outputs": [],
   "source": [
    "#save indexes\n",
    "temp_index = y_transfused.index\n",
    "\n",
    "#trasform booleans in integers an create the series containing the outcomes\n",
    "y_transfused= [int(x[0]) for x in (y_transfused>500).values]\n",
    "y_transfused = pd.Series(y_transfused)\n",
    "y_transfused.index = temp_index\n",
    "y_transfused.name ='outcome'"
   ]
  },
  {
   "cell_type": "code",
   "execution_count": 55,
   "metadata": {},
   "outputs": [],
   "source": [
    "#extract the relative X's from the previous dataset\n",
    "X_transfused = X.loc[temp_index]"
   ]
  },
  {
   "cell_type": "code",
   "execution_count": 56,
   "metadata": {},
   "outputs": [
    {
     "data": {
      "text/html": [
       "<div>\n",
       "<style scoped>\n",
       "    .dataframe tbody tr th:only-of-type {\n",
       "        vertical-align: middle;\n",
       "    }\n",
       "\n",
       "    .dataframe tbody tr th {\n",
       "        vertical-align: top;\n",
       "    }\n",
       "\n",
       "    .dataframe thead th {\n",
       "        text-align: right;\n",
       "    }\n",
       "</style>\n",
       "<table border=\"1\" class=\"dataframe\">\n",
       "  <thead>\n",
       "    <tr style=\"text-align: right;\">\n",
       "      <th></th>\n",
       "      <th>ALBUMIN</th>\n",
       "      <th>BUN</th>\n",
       "      <th>CREATININE</th>\n",
       "      <th>GLUCOSE</th>\n",
       "      <th>BICARBONATE</th>\n",
       "      <th>HEMATOCRIT</th>\n",
       "      <th>HEMOGLOBIN</th>\n",
       "      <th>INR</th>\n",
       "      <th>LACTATE</th>\n",
       "      <th>PLATELET</th>\n",
       "      <th>...</th>\n",
       "      <th>intercept_HEARTRATE</th>\n",
       "      <th>slope_HEARTRATE</th>\n",
       "      <th>intercept_RespRate</th>\n",
       "      <th>slope_RespRate</th>\n",
       "      <th>intercept_SysBP</th>\n",
       "      <th>slope_SysBP</th>\n",
       "      <th>intercept_DiasBP</th>\n",
       "      <th>slope_DiasBP</th>\n",
       "      <th>intercept_MeanBP</th>\n",
       "      <th>slope_MeanBP</th>\n",
       "    </tr>\n",
       "    <tr>\n",
       "      <th>temp_index</th>\n",
       "      <th></th>\n",
       "      <th></th>\n",
       "      <th></th>\n",
       "      <th></th>\n",
       "      <th></th>\n",
       "      <th></th>\n",
       "      <th></th>\n",
       "      <th></th>\n",
       "      <th></th>\n",
       "      <th></th>\n",
       "      <th></th>\n",
       "      <th></th>\n",
       "      <th></th>\n",
       "      <th></th>\n",
       "      <th></th>\n",
       "      <th></th>\n",
       "      <th></th>\n",
       "      <th></th>\n",
       "      <th></th>\n",
       "      <th></th>\n",
       "      <th></th>\n",
       "    </tr>\n",
       "  </thead>\n",
       "  <tbody>\n",
       "    <tr>\n",
       "      <th>142096</th>\n",
       "      <td>2.50</td>\n",
       "      <td>33.0</td>\n",
       "      <td>0.87</td>\n",
       "      <td>101.0</td>\n",
       "      <td>22.0</td>\n",
       "      <td>28.7</td>\n",
       "      <td>9.3</td>\n",
       "      <td>1.6</td>\n",
       "      <td>2.5</td>\n",
       "      <td>103.0</td>\n",
       "      <td>...</td>\n",
       "      <td>-0.008539</td>\n",
       "      <td>1.857146</td>\n",
       "      <td>-0.279816</td>\n",
       "      <td>6.110364</td>\n",
       "      <td>-0.035507</td>\n",
       "      <td>5.391987</td>\n",
       "      <td>0.015944</td>\n",
       "      <td>-0.095344</td>\n",
       "      <td>-0.039243</td>\n",
       "      <td>4.375512</td>\n",
       "    </tr>\n",
       "    <tr>\n",
       "      <th>142478</th>\n",
       "      <td>3.00</td>\n",
       "      <td>38.0</td>\n",
       "      <td>1.20</td>\n",
       "      <td>113.4</td>\n",
       "      <td>29.0</td>\n",
       "      <td>23.9</td>\n",
       "      <td>8.0</td>\n",
       "      <td>1.1</td>\n",
       "      <td>2.5</td>\n",
       "      <td>362.0</td>\n",
       "      <td>...</td>\n",
       "      <td>-0.146635</td>\n",
       "      <td>12.343312</td>\n",
       "      <td>-0.090335</td>\n",
       "      <td>3.062036</td>\n",
       "      <td>0.406662</td>\n",
       "      <td>-47.955267</td>\n",
       "      <td>0.086455</td>\n",
       "      <td>-5.100865</td>\n",
       "      <td>0.137598</td>\n",
       "      <td>-11.287488</td>\n",
       "    </tr>\n",
       "    <tr>\n",
       "      <th>142667</th>\n",
       "      <td>1.50</td>\n",
       "      <td>28.0</td>\n",
       "      <td>1.10</td>\n",
       "      <td>97.0</td>\n",
       "      <td>30.0</td>\n",
       "      <td>24.6</td>\n",
       "      <td>7.6</td>\n",
       "      <td>1.8</td>\n",
       "      <td>2.0</td>\n",
       "      <td>68.0</td>\n",
       "      <td>...</td>\n",
       "      <td>0.055926</td>\n",
       "      <td>-3.996090</td>\n",
       "      <td>-0.068721</td>\n",
       "      <td>1.984537</td>\n",
       "      <td>-0.050492</td>\n",
       "      <td>5.647801</td>\n",
       "      <td>-0.035945</td>\n",
       "      <td>2.696621</td>\n",
       "      <td>-0.047762</td>\n",
       "      <td>3.996254</td>\n",
       "    </tr>\n",
       "    <tr>\n",
       "      <th>142689</th>\n",
       "      <td>2.12</td>\n",
       "      <td>38.0</td>\n",
       "      <td>1.20</td>\n",
       "      <td>178.8</td>\n",
       "      <td>23.0</td>\n",
       "      <td>19.9</td>\n",
       "      <td>6.4</td>\n",
       "      <td>1.4</td>\n",
       "      <td>2.5</td>\n",
       "      <td>142.0</td>\n",
       "      <td>...</td>\n",
       "      <td>0.055797</td>\n",
       "      <td>-5.772024</td>\n",
       "      <td>0.524139</td>\n",
       "      <td>-10.761682</td>\n",
       "      <td>-0.106438</td>\n",
       "      <td>12.574108</td>\n",
       "      <td>0.169817</td>\n",
       "      <td>-9.370750</td>\n",
       "      <td>-0.043808</td>\n",
       "      <td>4.230140</td>\n",
       "    </tr>\n",
       "    <tr>\n",
       "      <th>143450</th>\n",
       "      <td>3.20</td>\n",
       "      <td>43.0</td>\n",
       "      <td>1.52</td>\n",
       "      <td>206.0</td>\n",
       "      <td>26.0</td>\n",
       "      <td>25.4</td>\n",
       "      <td>8.8</td>\n",
       "      <td>1.1</td>\n",
       "      <td>2.5</td>\n",
       "      <td>300.0</td>\n",
       "      <td>...</td>\n",
       "      <td>0.048930</td>\n",
       "      <td>-3.738238</td>\n",
       "      <td>-0.054104</td>\n",
       "      <td>2.146069</td>\n",
       "      <td>0.121570</td>\n",
       "      <td>-13.894409</td>\n",
       "      <td>0.206495</td>\n",
       "      <td>-14.080984</td>\n",
       "      <td>0.178417</td>\n",
       "      <td>-15.152671</td>\n",
       "    </tr>\n",
       "  </tbody>\n",
       "</table>\n",
       "<p>5 rows × 61 columns</p>\n",
       "</div>"
      ],
      "text/plain": [
       "            ALBUMIN   BUN  CREATININE  GLUCOSE  BICARBONATE  HEMATOCRIT  \\\n",
       "temp_index                                                                \n",
       "142096         2.50  33.0        0.87    101.0         22.0        28.7   \n",
       "142478         3.00  38.0        1.20    113.4         29.0        23.9   \n",
       "142667         1.50  28.0        1.10     97.0         30.0        24.6   \n",
       "142689         2.12  38.0        1.20    178.8         23.0        19.9   \n",
       "143450         3.20  43.0        1.52    206.0         26.0        25.4   \n",
       "\n",
       "            HEMOGLOBIN  INR  LACTATE  PLATELET  ...  intercept_HEARTRATE  \\\n",
       "temp_index                                      ...                        \n",
       "142096             9.3  1.6      2.5     103.0  ...            -0.008539   \n",
       "142478             8.0  1.1      2.5     362.0  ...            -0.146635   \n",
       "142667             7.6  1.8      2.0      68.0  ...             0.055926   \n",
       "142689             6.4  1.4      2.5     142.0  ...             0.055797   \n",
       "143450             8.8  1.1      2.5     300.0  ...             0.048930   \n",
       "\n",
       "            slope_HEARTRATE  intercept_RespRate  slope_RespRate  \\\n",
       "temp_index                                                        \n",
       "142096             1.857146           -0.279816        6.110364   \n",
       "142478            12.343312           -0.090335        3.062036   \n",
       "142667            -3.996090           -0.068721        1.984537   \n",
       "142689            -5.772024            0.524139      -10.761682   \n",
       "143450            -3.738238           -0.054104        2.146069   \n",
       "\n",
       "            intercept_SysBP  slope_SysBP  intercept_DiasBP  slope_DiasBP  \\\n",
       "temp_index                                                                 \n",
       "142096            -0.035507     5.391987          0.015944     -0.095344   \n",
       "142478             0.406662   -47.955267          0.086455     -5.100865   \n",
       "142667            -0.050492     5.647801         -0.035945      2.696621   \n",
       "142689            -0.106438    12.574108          0.169817     -9.370750   \n",
       "143450             0.121570   -13.894409          0.206495    -14.080984   \n",
       "\n",
       "            intercept_MeanBP  slope_MeanBP  \n",
       "temp_index                                  \n",
       "142096             -0.039243      4.375512  \n",
       "142478              0.137598    -11.287488  \n",
       "142667             -0.047762      3.996254  \n",
       "142689             -0.043808      4.230140  \n",
       "143450              0.178417    -15.152671  \n",
       "\n",
       "[5 rows x 61 columns]"
      ]
     },
     "execution_count": 56,
     "metadata": {},
     "output_type": "execute_result"
    }
   ],
   "source": [
    "X_transfused.head()"
   ]
  },
  {
   "cell_type": "code",
   "execution_count": 57,
   "metadata": {},
   "outputs": [
    {
     "data": {
      "text/plain": [
       "temp_index\n",
       "142096    0\n",
       "142478    1\n",
       "142667    1\n",
       "142689    1\n",
       "143450    1\n",
       "Name: outcome, dtype: int64"
      ]
     },
     "execution_count": 57,
     "metadata": {},
     "output_type": "execute_result"
    }
   ],
   "source": [
    "y_transfused.head()"
   ]
  },
  {
   "cell_type": "code",
   "execution_count": 58,
   "metadata": {},
   "outputs": [],
   "source": [
    "X_transfused.to_csv('Regression_x_0_3_eICU.csv')"
   ]
  },
  {
   "cell_type": "code",
   "execution_count": 59,
   "metadata": {},
   "outputs": [],
   "source": [
    "X_transfused.to_csv('Regression_y_4_24_eICU.csv')"
   ]
  },
  {
   "cell_type": "code",
   "execution_count": null,
   "metadata": {},
   "outputs": [],
   "source": []
  }
 ],
 "metadata": {
  "kernelspec": {
   "display_name": "Python 3",
   "language": "python",
   "name": "python3"
  },
  "language_info": {
   "codemirror_mode": {
    "name": "ipython",
    "version": 3
   },
   "file_extension": ".py",
   "mimetype": "text/x-python",
   "name": "python",
   "nbconvert_exporter": "python",
   "pygments_lexer": "ipython3",
   "version": "3.6.10"
  }
 },
 "nbformat": 4,
 "nbformat_minor": 4
}
