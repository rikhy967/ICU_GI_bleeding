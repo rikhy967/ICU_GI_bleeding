{
 "cells": [
  {
   "cell_type": "markdown",
   "metadata": {},
   "source": [
    "# Assessing the number of missing values"
   ]
  },
  {
   "cell_type": "code",
   "execution_count": 1,
   "metadata": {},
   "outputs": [
    {
     "name": "stdout",
     "output_type": "stream",
     "text": [
      "Populating the interactive namespace from numpy and matplotlib\n"
     ]
    }
   ],
   "source": [
    "%pylab inline"
   ]
  },
  {
   "cell_type": "code",
   "execution_count": 2,
   "metadata": {},
   "outputs": [
    {
     "name": "stdout",
     "output_type": "stream",
     "text": [
      "/home/mrcharles/eICU Bleeding/Feature Engineering\n"
     ]
    }
   ],
   "source": [
    "!pwd"
   ]
  },
  {
   "cell_type": "code",
   "execution_count": 3,
   "metadata": {},
   "outputs": [],
   "source": [
    "import seaborn as sns\n",
    "import matplotlib.pyplot as plt\n",
    "import warnings\n",
    "import pandas as pd\n",
    "import numpy as np\n",
    "from scipy import stats\n",
    "from costum_utils import future_checker\n",
    "import tqdm"
   ]
  },
  {
   "cell_type": "markdown",
   "metadata": {},
   "source": [
    "## NOTE"
   ]
  },
  {
   "cell_type": "markdown",
   "metadata": {},
   "source": [
    "This notebook follows rughly the same steps of Feature_Engineering_eICU. For more details look over there."
   ]
  },
  {
   "cell_type": "markdown",
   "metadata": {},
   "source": [
    "# 1. Data import"
   ]
  },
  {
   "cell_type": "markdown",
   "metadata": {},
   "source": [
    "We start by importing the dataset and subset it to the columns matching eICU cohort"
   ]
  },
  {
   "cell_type": "code",
   "execution_count": 4,
   "metadata": {},
   "outputs": [],
   "source": [
    "df = pd.read_csv('./MIMIC/mimic.csv',sep=',')\n",
    "df.drop('Unnamed: 0',axis=1,inplace=True)\n",
    "\n",
    "df.set_index('ICUSTAY_ID',inplace=True)\n",
    "\n",
    "df = df[['time', 'ALBUMIN', 'BUN', 'CREATININE', 'GLUCOSE', 'BICARBONATE',\n",
    "       'HEMATOCRIT', 'HEMOGLOBIN', 'INR', 'LACTATE', 'PLATELET', 'POTASSIUM',\n",
    "       'PTT', 'WBC', 'AmountTransfused', 'TempC', 'HEARTRATE', 'RespRate',\n",
    "       'SysBP', 'DiasBP', 'MeanBP', 'crystalloid_bolus', 'gender',\n",
    "       'admission_age']]"
   ]
  },
  {
   "cell_type": "markdown",
   "metadata": {},
   "source": [
    "# 2. Creating X and y"
   ]
  },
  {
   "cell_type": "markdown",
   "metadata": {},
   "source": [
    "## 2.1 Preprocessing"
   ]
  },
  {
   "cell_type": "markdown",
   "metadata": {},
   "source": [
    "Taking care of duplicate hours: some patients report multiple entries for the same hour of an icu stay. With the code below we collapse those observation into a unique one. Note that different features require differnt collapsing procedure (ex: AumountTransfusion is summed and labs values are averaged)"
   ]
  },
  {
   "cell_type": "code",
   "execution_count": null,
   "metadata": {},
   "outputs": [],
   "source": [
    "start_time = 0\n",
    "end_time = 3"
   ]
  },
  {
   "cell_type": "code",
   "execution_count": 5,
   "metadata": {},
   "outputs": [],
   "source": [
    "#summed features\n",
    "sum_features = ['crystalloid_bolus','AmountTransfused']\n",
    "temp = df[df['time']<=end_time].copy()\n",
    "temp['temp_index'] = df[df['time']<=end_time].index\n",
    "temp = temp.groupby(['temp_index','time'],as_index=False).sum()\n",
    "temp.set_index('temp_index',inplace=True)\n",
    "\n",
    "\n",
    "#other\n",
    "other_features =['time', 'ALBUMIN', 'BUN', 'CREATININE', 'GLUCOSE', 'BICARBONATE',\n",
    "       'HEMATOCRIT', 'HEMOGLOBIN', 'INR', 'LACTATE', 'PLATELET', 'POTASSIUM',\n",
    "       'PTT', 'WBC', 'TempC', 'HEARTRATE', 'RespRate',\n",
    "       'SysBP', 'DiasBP', 'MeanBP', 'gender',\n",
    "       'admission_age']\n",
    "\n",
    "temp2 = df[df['time']<=end_time].copy()\n",
    "temp2['temp_index'] = df[df['time']<=end_time].index\n",
    "temp2 = temp2.groupby(['temp_index','time'],as_index=False).max()\n",
    "temp2.set_index('temp_index',inplace=True)\n",
    "\n",
    "\n",
    "\n",
    "#reshaping\n",
    "df = pd.DataFrame(index=temp.index)\n",
    "df[other_features] = temp2[other_features]\n",
    "df[sum_features]=temp[sum_features]"
   ]
  },
  {
   "cell_type": "code",
   "execution_count": 6,
   "metadata": {},
   "outputs": [
    {
     "data": {
      "text/plain": [
       "-1    4333\n",
       " 1    4333\n",
       " 0    4333\n",
       " 2    4328\n",
       " 3    4326\n",
       "Name: time, dtype: int64"
      ]
     },
     "execution_count": 6,
     "metadata": {},
     "output_type": "execute_result"
    }
   ],
   "source": [
    "df.time.value_counts()"
   ]
  },
  {
   "cell_type": "markdown",
   "metadata": {},
   "source": [
    "Observing the output of the previuos line we observe that the dataset is not homogeneous. We now add empty lines to account for this"
   ]
  },
  {
   "cell_type": "code",
   "execution_count": 7,
   "metadata": {},
   "outputs": [],
   "source": [
    "time = [x for x in range(-1,end_time+1)]\n",
    "for i in df.index.unique():\n",
    "    \n",
    "        \n",
    "        if(df.loc[i].shape[0] <len(teime)):\n",
    "\n",
    "            missing = [x for x in time if x not in df.loc[i].time.values]\n",
    "            to_add = pd.DataFrame(missing, columns = ['time'],index = [i]*len(missing))\n",
    "            df = pd.concat([df,to_add])\n",
    "\n",
    "\n",
    "#since we added df timeslots we need to reorder the dataset\n",
    "df['temp_axis'] = df.index\n",
    "\n",
    "df.sort_values(by=['temp_axis','time'],inplace=True)\n",
    "df.drop('temp_axis',axis=1,inplace=True)"
   ]
  },
  {
   "cell_type": "markdown",
   "metadata": {},
   "source": [
    "Let us now impute stati feature in the records added above"
   ]
  },
  {
   "cell_type": "code",
   "execution_count": 8,
   "metadata": {},
   "outputs": [],
   "source": [
    "for i in df.index.unique(): \n",
    "    df.loc[i,['gender']] =np.nanmean(df.loc[i,['gender']])\n",
    "    \n",
    "for i in df.index.unique(): \n",
    "    df.loc[i,['admission_age']] =np.nanmean(df.loc[i,['admission_age']])"
   ]
  },
  {
   "cell_type": "markdown",
   "metadata": {},
   "source": [
    "Finally let us check whether now the time format is homogeneous"
   ]
  },
  {
   "cell_type": "code",
   "execution_count": 9,
   "metadata": {},
   "outputs": [
    {
     "data": {
      "text/plain": [
       "-1    4333\n",
       " 3    4333\n",
       " 2    4333\n",
       " 1    4333\n",
       " 0    4333\n",
       "Name: time, dtype: int64"
      ]
     },
     "execution_count": 9,
     "metadata": {},
     "output_type": "execute_result"
    }
   ],
   "source": [
    "df.time.value_counts()"
   ]
  },
  {
   "cell_type": "markdown",
   "metadata": {},
   "source": [
    "## 2.2 Imputation"
   ]
  },
  {
   "cell_type": "markdown",
   "metadata": {},
   "source": [
    "Let us first take care of the imputation of data prior to ICU admission. We start by taking care of lab values"
   ]
  },
  {
   "cell_type": "code",
   "execution_count": 10,
   "metadata": {},
   "outputs": [
    {
     "name": "stderr",
     "output_type": "stream",
     "text": [
      "100%|██████████| 4333/4333 [00:53<00:00, 80.92it/s]\n"
     ]
    }
   ],
   "source": [
    "#LABS - compute values to impute\n",
    "pre_imputation=[\n",
    "('ALBUMIN',np.nanmedian),\n",
    "('BUN',np.nanmedian),\n",
    "('CREATININE',np.nanmedian),\n",
    "('GLUCOSE',np.nanmedian),\n",
    "('BICARBONATE',np.nanmedian),\n",
    "('HEMATOCRIT',np.nanmedian),\n",
    "('HEMOGLOBIN',np.nanmedian),\n",
    "('INR',np.nanmedian),\n",
    "('LACTATE',np.nanmedian),\n",
    "('PLATELET',np.nanmedian),\n",
    "('POTASSIUM',np.nanmedian),\n",
    "('PTT',np.nanmedian),\n",
    "('WBC',np.nanmedian)\n",
    "]\n",
    "\n",
    "#save them in a dictionary\n",
    "imputation_value_dict = {}\n",
    "\n",
    "for i,j in pre_imputation:\n",
    "    imputation_value_dict[i] = j(df[df['time']==-1][i].values)\n",
    "\n",
    "#impute values\n",
    "for j in tqdm.tqdm(df.index.unique()):\n",
    "    \n",
    "    for i,_ in pre_imputation:\n",
    "        \n",
    "        if(math.isnan(df.loc[(df.index==j) & (df.time==-1),i].values)):\n",
    "            df.loc[(df.index==j) & (df.time==-1),i]=imputation_value_dict[i]"
   ]
  },
  {
   "cell_type": "markdown",
   "metadata": {},
   "source": [
    "Since vitals prior to ICU admisssion are usually not available, we impute this data by looking at the distribution of parameters one hour ahead"
   ]
  },
  {
   "cell_type": "code",
   "execution_count": 11,
   "metadata": {},
   "outputs": [
    {
     "name": "stderr",
     "output_type": "stream",
     "text": [
      "100%|██████████| 4333/4333 [00:33<00:00, 130.49it/s]\n"
     ]
    }
   ],
   "source": [
    "#VITALS - compute the values to impute\n",
    "periodic_pre_impute=[\n",
    "('TempC',np.nanmedian),\n",
    "('HEARTRATE',np.nanmedian),\n",
    "('RespRate',np.nanmedian),\n",
    "('SysBP',np.nanmedian),\n",
    "('DiasBP',np.nanmedian),\n",
    "('MeanBP',np.nanmedian)\n",
    "]\n",
    "\n",
    "imputation_value_dict = {}\n",
    "\n",
    "#compute the values to impute from next hour\n",
    "for i,j in periodic_pre_impute:\n",
    "    imputation_value_dict[i] = j(df[df['time']==0][i].values)\n",
    "\n",
    "    \n",
    "#impute values    \n",
    "for j in tqdm.tqdm(df.index.unique()):\n",
    "    \n",
    "    for i,_ in periodic_pre_impute:\n",
    "        \n",
    "        if(math.isnan(df.loc[(df.index==j) & (df.time==-1),i].values)):\n",
    "            df.loc[(df.index==j) & (df.time==-1),i]=imputation_value_dict[i]"
   ]
  },
  {
   "cell_type": "markdown",
   "metadata": {},
   "source": [
    "Some feature are not prone to fill forward procedure:"
   ]
  },
  {
   "cell_type": "code",
   "execution_count": 12,
   "metadata": {},
   "outputs": [],
   "source": [
    "df['crystalloid_bolus'].fillna(0,inplace=True)\n",
    "df['AmountTransfused'].fillna(0,inplace=True)"
   ]
  },
  {
   "cell_type": "markdown",
   "metadata": {},
   "source": [
    "Let us now dynamically impute the remaining values"
   ]
  },
  {
   "cell_type": "code",
   "execution_count": 13,
   "metadata": {},
   "outputs": [
    {
     "name": "stderr",
     "output_type": "stream",
     "text": [
      "100%|██████████| 4333/4333 [00:31<00:00, 137.11it/s]\n"
     ]
    }
   ],
   "source": [
    "for i in tqdm.tqdm(df.index.unique()):\n",
    "    df.loc[i]=df.loc[i].fillna(method='ffill')"
   ]
  },
  {
   "cell_type": "code",
   "execution_count": 14,
   "metadata": {},
   "outputs": [],
   "source": [
    "#raw export\n",
    "df.to_csv('raw_x_0_3_MIMIC.csv')"
   ]
  },
  {
   "cell_type": "markdown",
   "metadata": {},
   "source": [
    "## 2.3 Feature collapsing"
   ]
  },
  {
   "cell_type": "markdown",
   "metadata": {},
   "source": [
    "Let us now collapse the time series featrues in one unique observations according to the criteria chosen below"
   ]
  },
  {
   "cell_type": "code",
   "execution_count": 15,
   "metadata": {},
   "outputs": [],
   "source": [
    "collapsed = pd.DataFrame(index=df.index.unique())\n",
    "\n",
    "features_list = [\n",
    "    #('gender', np.nanmin),\n",
    "    ('ALBUMIN',np.nanmean),\n",
    "    ('BUN', np.nanmax),\n",
    "    ('CREATININE', np.nanmax),\n",
    "    ('GLUCOSE',np.nanmean),\n",
    "    ('BICARBONATE', np.nanmin),\n",
    "    ('HEMATOCRIT', np.nanmin),\n",
    "    ('HEMOGLOBIN', np.nanmin),\n",
    "    ('INR',np.nanmean),\n",
    "    ('LACTATE',np.nanmean),\n",
    "    ('PLATELET', np.nanmin),\n",
    "    ('POTASSIUM', np.nanmax),\n",
    "    ('PTT', np.nanmax),\n",
    "    ('WBC', np.nanmean),\n",
    "    ('AmountTransfused', np.nansum),\n",
    "    ('TempC', np.nanmin),\n",
    "    ('HEARTRATE', np.nanmax),\n",
    "    ('RespRate', np.nanmax),\n",
    "    ('SysBP', np.nanmin),\n",
    "    ('DiasBP',np.nanmean),\n",
    "    ('MeanBP', np.nanmean),\n",
    "    ('crystalloid_bolus',np.nansum),\n",
    "    ('gender',np.nanmin),\n",
    "    ('admission_age', np.nanmin),\n",
    "]\n",
    "\n",
    "\n",
    "to_concat = []\n",
    "grouped = df.groupby(df.index)\n",
    "for feature, function in features_list:\n",
    "    to_concat.append(grouped[[feature]].apply(function))\n",
    "  \n",
    "collapsed = pd.concat([collapsed] + to_concat, axis=1, join='inner')\n",
    "\n",
    "col_names =[x[0] for x in features_list]\n",
    "collapsed.columns = col_names"
   ]
  },
  {
   "cell_type": "code",
   "execution_count": 16,
   "metadata": {},
   "outputs": [
    {
     "data": {
      "text/html": [
       "<div>\n",
       "<style scoped>\n",
       "    .dataframe tbody tr th:only-of-type {\n",
       "        vertical-align: middle;\n",
       "    }\n",
       "\n",
       "    .dataframe tbody tr th {\n",
       "        vertical-align: top;\n",
       "    }\n",
       "\n",
       "    .dataframe thead th {\n",
       "        text-align: right;\n",
       "    }\n",
       "</style>\n",
       "<table border=\"1\" class=\"dataframe\">\n",
       "  <thead>\n",
       "    <tr style=\"text-align: right;\">\n",
       "      <th></th>\n",
       "      <th>ALBUMIN</th>\n",
       "      <th>BUN</th>\n",
       "      <th>CREATININE</th>\n",
       "      <th>GLUCOSE</th>\n",
       "      <th>BICARBONATE</th>\n",
       "      <th>HEMATOCRIT</th>\n",
       "      <th>HEMOGLOBIN</th>\n",
       "      <th>INR</th>\n",
       "      <th>LACTATE</th>\n",
       "      <th>PLATELET</th>\n",
       "      <th>...</th>\n",
       "      <th>AmountTransfused</th>\n",
       "      <th>TempC</th>\n",
       "      <th>HEARTRATE</th>\n",
       "      <th>RespRate</th>\n",
       "      <th>SysBP</th>\n",
       "      <th>DiasBP</th>\n",
       "      <th>MeanBP</th>\n",
       "      <th>crystalloid_bolus</th>\n",
       "      <th>gender</th>\n",
       "      <th>admission_age</th>\n",
       "    </tr>\n",
       "  </thead>\n",
       "  <tbody>\n",
       "    <tr>\n",
       "      <th>200010</th>\n",
       "      <td>3.20</td>\n",
       "      <td>13.0</td>\n",
       "      <td>1.0</td>\n",
       "      <td>187.0</td>\n",
       "      <td>25.0</td>\n",
       "      <td>27.0</td>\n",
       "      <td>8.9</td>\n",
       "      <td>1.14</td>\n",
       "      <td>2.275</td>\n",
       "      <td>251.0</td>\n",
       "      <td>...</td>\n",
       "      <td>0.000000</td>\n",
       "      <td>36.666667</td>\n",
       "      <td>112.0</td>\n",
       "      <td>19.0</td>\n",
       "      <td>122.000000</td>\n",
       "      <td>72.200000</td>\n",
       "      <td>89.657143</td>\n",
       "      <td>1012.000000</td>\n",
       "      <td>1.0</td>\n",
       "      <td>27.0</td>\n",
       "    </tr>\n",
       "    <tr>\n",
       "      <th>200014</th>\n",
       "      <td>2.96</td>\n",
       "      <td>31.5</td>\n",
       "      <td>1.2</td>\n",
       "      <td>121.6</td>\n",
       "      <td>24.0</td>\n",
       "      <td>28.5</td>\n",
       "      <td>9.5</td>\n",
       "      <td>1.18</td>\n",
       "      <td>1.725</td>\n",
       "      <td>130.0</td>\n",
       "      <td>...</td>\n",
       "      <td>0.000000</td>\n",
       "      <td>34.749999</td>\n",
       "      <td>89.0</td>\n",
       "      <td>19.0</td>\n",
       "      <td>106.375000</td>\n",
       "      <td>61.990476</td>\n",
       "      <td>82.277390</td>\n",
       "      <td>1280.000000</td>\n",
       "      <td>0.0</td>\n",
       "      <td>85.0</td>\n",
       "    </tr>\n",
       "    <tr>\n",
       "      <th>200039</th>\n",
       "      <td>3.20</td>\n",
       "      <td>3.0</td>\n",
       "      <td>0.5</td>\n",
       "      <td>215.0</td>\n",
       "      <td>30.0</td>\n",
       "      <td>30.8</td>\n",
       "      <td>10.7</td>\n",
       "      <td>1.10</td>\n",
       "      <td>2.275</td>\n",
       "      <td>370.0</td>\n",
       "      <td>...</td>\n",
       "      <td>0.000000</td>\n",
       "      <td>36.666667</td>\n",
       "      <td>101.0</td>\n",
       "      <td>21.0</td>\n",
       "      <td>122.000000</td>\n",
       "      <td>58.866667</td>\n",
       "      <td>82.701583</td>\n",
       "      <td>0.000000</td>\n",
       "      <td>1.0</td>\n",
       "      <td>69.0</td>\n",
       "    </tr>\n",
       "    <tr>\n",
       "      <th>200079</th>\n",
       "      <td>3.20</td>\n",
       "      <td>31.5</td>\n",
       "      <td>1.2</td>\n",
       "      <td>133.0</td>\n",
       "      <td>24.0</td>\n",
       "      <td>28.5</td>\n",
       "      <td>9.5</td>\n",
       "      <td>1.30</td>\n",
       "      <td>2.275</td>\n",
       "      <td>237.0</td>\n",
       "      <td>...</td>\n",
       "      <td>375.000013</td>\n",
       "      <td>36.250000</td>\n",
       "      <td>89.0</td>\n",
       "      <td>20.0</td>\n",
       "      <td>104.666667</td>\n",
       "      <td>58.866667</td>\n",
       "      <td>74.657143</td>\n",
       "      <td>0.000000</td>\n",
       "      <td>0.0</td>\n",
       "      <td>83.0</td>\n",
       "    </tr>\n",
       "    <tr>\n",
       "      <th>200160</th>\n",
       "      <td>3.20</td>\n",
       "      <td>33.0</td>\n",
       "      <td>0.9</td>\n",
       "      <td>114.0</td>\n",
       "      <td>21.0</td>\n",
       "      <td>23.8</td>\n",
       "      <td>8.0</td>\n",
       "      <td>1.30</td>\n",
       "      <td>2.275</td>\n",
       "      <td>353.0</td>\n",
       "      <td>...</td>\n",
       "      <td>279.000000</td>\n",
       "      <td>36.527778</td>\n",
       "      <td>89.0</td>\n",
       "      <td>21.0</td>\n",
       "      <td>122.000000</td>\n",
       "      <td>79.633333</td>\n",
       "      <td>94.471429</td>\n",
       "      <td>250.000000</td>\n",
       "      <td>1.0</td>\n",
       "      <td>56.0</td>\n",
       "    </tr>\n",
       "    <tr>\n",
       "      <th>...</th>\n",
       "      <td>...</td>\n",
       "      <td>...</td>\n",
       "      <td>...</td>\n",
       "      <td>...</td>\n",
       "      <td>...</td>\n",
       "      <td>...</td>\n",
       "      <td>...</td>\n",
       "      <td>...</td>\n",
       "      <td>...</td>\n",
       "      <td>...</td>\n",
       "      <td>...</td>\n",
       "      <td>...</td>\n",
       "      <td>...</td>\n",
       "      <td>...</td>\n",
       "      <td>...</td>\n",
       "      <td>...</td>\n",
       "      <td>...</td>\n",
       "      <td>...</td>\n",
       "      <td>...</td>\n",
       "      <td>...</td>\n",
       "      <td>...</td>\n",
       "    </tr>\n",
       "    <tr>\n",
       "      <th>299828</th>\n",
       "      <td>1.80</td>\n",
       "      <td>29.0</td>\n",
       "      <td>2.8</td>\n",
       "      <td>92.0</td>\n",
       "      <td>18.0</td>\n",
       "      <td>27.7</td>\n",
       "      <td>9.0</td>\n",
       "      <td>1.70</td>\n",
       "      <td>2.275</td>\n",
       "      <td>117.0</td>\n",
       "      <td>...</td>\n",
       "      <td>700.000000</td>\n",
       "      <td>35.611110</td>\n",
       "      <td>103.0</td>\n",
       "      <td>19.0</td>\n",
       "      <td>87.000000</td>\n",
       "      <td>60.800000</td>\n",
       "      <td>75.857143</td>\n",
       "      <td>0.000000</td>\n",
       "      <td>0.0</td>\n",
       "      <td>43.0</td>\n",
       "    </tr>\n",
       "    <tr>\n",
       "      <th>299853</th>\n",
       "      <td>2.90</td>\n",
       "      <td>72.0</td>\n",
       "      <td>1.4</td>\n",
       "      <td>154.0</td>\n",
       "      <td>22.0</td>\n",
       "      <td>21.5</td>\n",
       "      <td>7.9</td>\n",
       "      <td>1.20</td>\n",
       "      <td>2.890</td>\n",
       "      <td>240.0</td>\n",
       "      <td>...</td>\n",
       "      <td>350.000000</td>\n",
       "      <td>36.000000</td>\n",
       "      <td>89.0</td>\n",
       "      <td>25.0</td>\n",
       "      <td>122.000000</td>\n",
       "      <td>57.600000</td>\n",
       "      <td>77.057143</td>\n",
       "      <td>9.363636</td>\n",
       "      <td>0.0</td>\n",
       "      <td>86.0</td>\n",
       "    </tr>\n",
       "    <tr>\n",
       "      <th>299865</th>\n",
       "      <td>3.90</td>\n",
       "      <td>33.0</td>\n",
       "      <td>1.0</td>\n",
       "      <td>227.0</td>\n",
       "      <td>28.0</td>\n",
       "      <td>39.7</td>\n",
       "      <td>13.7</td>\n",
       "      <td>1.30</td>\n",
       "      <td>2.275</td>\n",
       "      <td>217.0</td>\n",
       "      <td>...</td>\n",
       "      <td>0.000000</td>\n",
       "      <td>36.666667</td>\n",
       "      <td>128.0</td>\n",
       "      <td>25.5</td>\n",
       "      <td>122.000000</td>\n",
       "      <td>72.000000</td>\n",
       "      <td>88.257143</td>\n",
       "      <td>510.000000</td>\n",
       "      <td>0.0</td>\n",
       "      <td>46.0</td>\n",
       "    </tr>\n",
       "    <tr>\n",
       "      <th>299931</th>\n",
       "      <td>4.50</td>\n",
       "      <td>43.0</td>\n",
       "      <td>1.7</td>\n",
       "      <td>111.0</td>\n",
       "      <td>27.0</td>\n",
       "      <td>23.0</td>\n",
       "      <td>8.3</td>\n",
       "      <td>3.20</td>\n",
       "      <td>2.275</td>\n",
       "      <td>331.0</td>\n",
       "      <td>...</td>\n",
       "      <td>725.000000</td>\n",
       "      <td>36.666667</td>\n",
       "      <td>89.0</td>\n",
       "      <td>19.0</td>\n",
       "      <td>83.000000</td>\n",
       "      <td>58.600000</td>\n",
       "      <td>74.457143</td>\n",
       "      <td>10.000000</td>\n",
       "      <td>0.0</td>\n",
       "      <td>65.0</td>\n",
       "    </tr>\n",
       "    <tr>\n",
       "      <th>299956</th>\n",
       "      <td>3.20</td>\n",
       "      <td>34.0</td>\n",
       "      <td>1.8</td>\n",
       "      <td>188.0</td>\n",
       "      <td>20.0</td>\n",
       "      <td>28.1</td>\n",
       "      <td>9.4</td>\n",
       "      <td>5.58</td>\n",
       "      <td>2.900</td>\n",
       "      <td>185.0</td>\n",
       "      <td>...</td>\n",
       "      <td>0.000000</td>\n",
       "      <td>35.833333</td>\n",
       "      <td>103.5</td>\n",
       "      <td>26.0</td>\n",
       "      <td>99.333333</td>\n",
       "      <td>62.366667</td>\n",
       "      <td>76.438095</td>\n",
       "      <td>1510.500000</td>\n",
       "      <td>0.0</td>\n",
       "      <td>56.0</td>\n",
       "    </tr>\n",
       "  </tbody>\n",
       "</table>\n",
       "<p>4333 rows × 23 columns</p>\n",
       "</div>"
      ],
      "text/plain": [
       "        ALBUMIN   BUN  CREATININE  GLUCOSE  BICARBONATE  HEMATOCRIT  \\\n",
       "200010     3.20  13.0         1.0    187.0         25.0        27.0   \n",
       "200014     2.96  31.5         1.2    121.6         24.0        28.5   \n",
       "200039     3.20   3.0         0.5    215.0         30.0        30.8   \n",
       "200079     3.20  31.5         1.2    133.0         24.0        28.5   \n",
       "200160     3.20  33.0         0.9    114.0         21.0        23.8   \n",
       "...         ...   ...         ...      ...          ...         ...   \n",
       "299828     1.80  29.0         2.8     92.0         18.0        27.7   \n",
       "299853     2.90  72.0         1.4    154.0         22.0        21.5   \n",
       "299865     3.90  33.0         1.0    227.0         28.0        39.7   \n",
       "299931     4.50  43.0         1.7    111.0         27.0        23.0   \n",
       "299956     3.20  34.0         1.8    188.0         20.0        28.1   \n",
       "\n",
       "        HEMOGLOBIN   INR  LACTATE  PLATELET  ...  AmountTransfused      TempC  \\\n",
       "200010         8.9  1.14    2.275     251.0  ...          0.000000  36.666667   \n",
       "200014         9.5  1.18    1.725     130.0  ...          0.000000  34.749999   \n",
       "200039        10.7  1.10    2.275     370.0  ...          0.000000  36.666667   \n",
       "200079         9.5  1.30    2.275     237.0  ...        375.000013  36.250000   \n",
       "200160         8.0  1.30    2.275     353.0  ...        279.000000  36.527778   \n",
       "...            ...   ...      ...       ...  ...               ...        ...   \n",
       "299828         9.0  1.70    2.275     117.0  ...        700.000000  35.611110   \n",
       "299853         7.9  1.20    2.890     240.0  ...        350.000000  36.000000   \n",
       "299865        13.7  1.30    2.275     217.0  ...          0.000000  36.666667   \n",
       "299931         8.3  3.20    2.275     331.0  ...        725.000000  36.666667   \n",
       "299956         9.4  5.58    2.900     185.0  ...          0.000000  35.833333   \n",
       "\n",
       "        HEARTRATE  RespRate       SysBP     DiasBP     MeanBP  \\\n",
       "200010      112.0      19.0  122.000000  72.200000  89.657143   \n",
       "200014       89.0      19.0  106.375000  61.990476  82.277390   \n",
       "200039      101.0      21.0  122.000000  58.866667  82.701583   \n",
       "200079       89.0      20.0  104.666667  58.866667  74.657143   \n",
       "200160       89.0      21.0  122.000000  79.633333  94.471429   \n",
       "...           ...       ...         ...        ...        ...   \n",
       "299828      103.0      19.0   87.000000  60.800000  75.857143   \n",
       "299853       89.0      25.0  122.000000  57.600000  77.057143   \n",
       "299865      128.0      25.5  122.000000  72.000000  88.257143   \n",
       "299931       89.0      19.0   83.000000  58.600000  74.457143   \n",
       "299956      103.5      26.0   99.333333  62.366667  76.438095   \n",
       "\n",
       "        crystalloid_bolus  gender  admission_age  \n",
       "200010        1012.000000     1.0           27.0  \n",
       "200014        1280.000000     0.0           85.0  \n",
       "200039           0.000000     1.0           69.0  \n",
       "200079           0.000000     0.0           83.0  \n",
       "200160         250.000000     1.0           56.0  \n",
       "...                   ...     ...            ...  \n",
       "299828           0.000000     0.0           43.0  \n",
       "299853           9.363636     0.0           86.0  \n",
       "299865         510.000000     0.0           46.0  \n",
       "299931          10.000000     0.0           65.0  \n",
       "299956        1510.500000     0.0           56.0  \n",
       "\n",
       "[4333 rows x 23 columns]"
      ]
     },
     "execution_count": 16,
     "metadata": {},
     "output_type": "execute_result"
    }
   ],
   "source": [
    "collapsed"
   ]
  },
  {
   "cell_type": "markdown",
   "metadata": {},
   "source": [
    "## 2.4 Feature engineering"
   ]
  },
  {
   "cell_type": "markdown",
   "metadata": {},
   "source": [
    "We now add additional features in order to improve the performance of the classifier and capture temporal patterns. Namely we compute the inercept and slope of a lienar fit on the time series available. Before doing so we need to recode the informations about age and gender in order to exclude them in the subsequent analysis\n"
   ]
  },
  {
   "cell_type": "code",
   "execution_count": 17,
   "metadata": {},
   "outputs": [],
   "source": [
    "df['gender'] = df['gender'].astype('int')\n",
    "df['admission_age'] = df['admission_age'].astype('int')"
   ]
  },
  {
   "cell_type": "markdown",
   "metadata": {},
   "source": [
    "Compute now the df features"
   ]
  },
  {
   "cell_type": "code",
   "execution_count": 18,
   "metadata": {},
   "outputs": [
    {
     "name": "stdout",
     "output_type": "stream",
     "text": [
      "ALBUMIN\n",
      "BUN\n",
      "CREATININE\n",
      "GLUCOSE\n",
      "BICARBONATE\n",
      "HEMATOCRIT\n",
      "HEMOGLOBIN\n",
      "INR\n",
      "LACTATE\n",
      "PLATELET\n",
      "POTASSIUM\n",
      "PTT\n",
      "WBC\n",
      "TempC\n",
      "HEARTRATE\n",
      "RespRate\n",
      "SysBP\n",
      "DiasBP\n",
      "MeanBP\n",
      "crystalloid_bolus\n",
      "AmountTransfused\n"
     ]
    }
   ],
   "source": [
    "#trend features\n",
    "trend_features = pd.DataFrame(index=df.index.unique())\n",
    "\n",
    "import warnings\n",
    "with warnings.catch_warnings():\n",
    "    \n",
    "    warnings.simplefilter(\"ignore\")\n",
    "    \n",
    "    exclusion_list = ['time','AmountTransfused','crystalloid_bolus']\n",
    "    \n",
    "    #select the columns of which we should make feature engineering\n",
    "    for col in df.select_dtypes('float').columns.tolist():\n",
    "        \n",
    "        print(col)\n",
    "        list_fit=[]\n",
    "        \n",
    "        if(col not in exclusion_list):\n",
    "        \n",
    "            #for each patient compute intercept and slope\n",
    "            for ind in df.index.unique():\n",
    "\n",
    "                    temp=df.loc[ind]\n",
    "                    \n",
    "\n",
    "                    value = np.polyfit(temp[col],temp.time,1)\n",
    "                    list_fit.append(value)\n",
    "\n",
    "\n",
    "            #make the labels\n",
    "            label_slope = 'slope_'+col\n",
    "            label_int = 'intercept_'+col\n",
    "\n",
    "            #add the features\n",
    "            trend_features[label_int] = [x[0] for x in list_fit]\n",
    "            trend_features[label_slope] = [x[1] for x in list_fit]\n",
    "            \n",
    "        else:\n",
    "            \n",
    "            pass"
   ]
  },
  {
   "cell_type": "markdown",
   "metadata": {},
   "source": [
    "## 2.5 Final feature merging"
   ]
  },
  {
   "cell_type": "code",
   "execution_count": 19,
   "metadata": {},
   "outputs": [],
   "source": [
    "to_export = pd.concat([collapsed] + [trend_features] , axis=1, join='inner')"
   ]
  },
  {
   "cell_type": "code",
   "execution_count": 20,
   "metadata": {},
   "outputs": [
    {
     "data": {
      "text/plain": [
       "Index(['ALBUMIN', 'BUN', 'CREATININE', 'GLUCOSE', 'BICARBONATE', 'HEMATOCRIT',\n",
       "       'HEMOGLOBIN', 'INR', 'LACTATE', 'PLATELET', 'POTASSIUM', 'PTT', 'WBC',\n",
       "       'AmountTransfused', 'TempC', 'HEARTRATE', 'RespRate', 'SysBP', 'DiasBP',\n",
       "       'MeanBP', 'crystalloid_bolus', 'gender', 'admission_age',\n",
       "       'intercept_ALBUMIN', 'slope_ALBUMIN', 'intercept_BUN', 'slope_BUN',\n",
       "       'intercept_CREATININE', 'slope_CREATININE', 'intercept_GLUCOSE',\n",
       "       'slope_GLUCOSE', 'intercept_BICARBONATE', 'slope_BICARBONATE',\n",
       "       'intercept_HEMATOCRIT', 'slope_HEMATOCRIT', 'intercept_HEMOGLOBIN',\n",
       "       'slope_HEMOGLOBIN', 'intercept_INR', 'slope_INR', 'intercept_LACTATE',\n",
       "       'slope_LACTATE', 'intercept_PLATELET', 'slope_PLATELET',\n",
       "       'intercept_POTASSIUM', 'slope_POTASSIUM', 'intercept_PTT', 'slope_PTT',\n",
       "       'intercept_WBC', 'slope_WBC', 'intercept_TempC', 'slope_TempC',\n",
       "       'intercept_HEARTRATE', 'slope_HEARTRATE', 'intercept_RespRate',\n",
       "       'slope_RespRate', 'intercept_SysBP', 'slope_SysBP', 'intercept_DiasBP',\n",
       "       'slope_DiasBP', 'intercept_MeanBP', 'slope_MeanBP'],\n",
       "      dtype='object')"
      ]
     },
     "execution_count": 20,
     "metadata": {},
     "output_type": "execute_result"
    }
   ],
   "source": [
    "to_export.columns"
   ]
  },
  {
   "cell_type": "code",
   "execution_count": 21,
   "metadata": {},
   "outputs": [
    {
     "data": {
      "text/html": [
       "<div>\n",
       "<style scoped>\n",
       "    .dataframe tbody tr th:only-of-type {\n",
       "        vertical-align: middle;\n",
       "    }\n",
       "\n",
       "    .dataframe tbody tr th {\n",
       "        vertical-align: top;\n",
       "    }\n",
       "\n",
       "    .dataframe thead th {\n",
       "        text-align: right;\n",
       "    }\n",
       "</style>\n",
       "<table border=\"1\" class=\"dataframe\">\n",
       "  <thead>\n",
       "    <tr style=\"text-align: right;\">\n",
       "      <th></th>\n",
       "      <th>ALBUMIN</th>\n",
       "      <th>BUN</th>\n",
       "      <th>CREATININE</th>\n",
       "      <th>GLUCOSE</th>\n",
       "      <th>BICARBONATE</th>\n",
       "      <th>HEMATOCRIT</th>\n",
       "      <th>HEMOGLOBIN</th>\n",
       "      <th>INR</th>\n",
       "      <th>LACTATE</th>\n",
       "      <th>PLATELET</th>\n",
       "      <th>...</th>\n",
       "      <th>intercept_HEARTRATE</th>\n",
       "      <th>slope_HEARTRATE</th>\n",
       "      <th>intercept_RespRate</th>\n",
       "      <th>slope_RespRate</th>\n",
       "      <th>intercept_SysBP</th>\n",
       "      <th>slope_SysBP</th>\n",
       "      <th>intercept_DiasBP</th>\n",
       "      <th>slope_DiasBP</th>\n",
       "      <th>intercept_MeanBP</th>\n",
       "      <th>slope_MeanBP</th>\n",
       "    </tr>\n",
       "  </thead>\n",
       "  <tbody>\n",
       "    <tr>\n",
       "      <th>200010</th>\n",
       "      <td>3.20</td>\n",
       "      <td>13.0</td>\n",
       "      <td>1.0</td>\n",
       "      <td>187.0</td>\n",
       "      <td>25.0</td>\n",
       "      <td>27.0</td>\n",
       "      <td>8.9</td>\n",
       "      <td>1.14</td>\n",
       "      <td>2.275</td>\n",
       "      <td>251.0</td>\n",
       "      <td>...</td>\n",
       "      <td>0.111842</td>\n",
       "      <td>-9.960526</td>\n",
       "      <td>-0.782374</td>\n",
       "      <td>14.978417</td>\n",
       "      <td>0.089509</td>\n",
       "      <td>-10.833056</td>\n",
       "      <td>0.080983</td>\n",
       "      <td>-4.846959</td>\n",
       "      <td>0.096552</td>\n",
       "      <td>-7.656614</td>\n",
       "    </tr>\n",
       "    <tr>\n",
       "      <th>200014</th>\n",
       "      <td>2.96</td>\n",
       "      <td>31.5</td>\n",
       "      <td>1.2</td>\n",
       "      <td>121.6</td>\n",
       "      <td>24.0</td>\n",
       "      <td>28.5</td>\n",
       "      <td>9.5</td>\n",
       "      <td>1.18</td>\n",
       "      <td>1.725</td>\n",
       "      <td>130.0</td>\n",
       "      <td>...</td>\n",
       "      <td>-0.118480</td>\n",
       "      <td>9.447654</td>\n",
       "      <td>-0.282392</td>\n",
       "      <td>4.416944</td>\n",
       "      <td>-0.017693</td>\n",
       "      <td>3.150997</td>\n",
       "      <td>-0.056544</td>\n",
       "      <td>4.505190</td>\n",
       "      <td>0.005546</td>\n",
       "      <td>0.543697</td>\n",
       "    </tr>\n",
       "    <tr>\n",
       "      <th>200039</th>\n",
       "      <td>3.20</td>\n",
       "      <td>3.0</td>\n",
       "      <td>0.5</td>\n",
       "      <td>215.0</td>\n",
       "      <td>30.0</td>\n",
       "      <td>30.8</td>\n",
       "      <td>10.7</td>\n",
       "      <td>1.10</td>\n",
       "      <td>2.275</td>\n",
       "      <td>370.0</td>\n",
       "      <td>...</td>\n",
       "      <td>0.215232</td>\n",
       "      <td>-18.973510</td>\n",
       "      <td>0.625000</td>\n",
       "      <td>-11.125000</td>\n",
       "      <td>0.076423</td>\n",
       "      <td>-9.301840</td>\n",
       "      <td>-0.625000</td>\n",
       "      <td>37.791667</td>\n",
       "      <td>0.180961</td>\n",
       "      <td>-13.965786</td>\n",
       "    </tr>\n",
       "    <tr>\n",
       "      <th>200079</th>\n",
       "      <td>3.20</td>\n",
       "      <td>31.5</td>\n",
       "      <td>1.2</td>\n",
       "      <td>133.0</td>\n",
       "      <td>24.0</td>\n",
       "      <td>28.5</td>\n",
       "      <td>9.5</td>\n",
       "      <td>1.30</td>\n",
       "      <td>2.275</td>\n",
       "      <td>237.0</td>\n",
       "      <td>...</td>\n",
       "      <td>-0.223214</td>\n",
       "      <td>19.928571</td>\n",
       "      <td>3.000000</td>\n",
       "      <td>-57.000000</td>\n",
       "      <td>-0.151066</td>\n",
       "      <td>18.483412</td>\n",
       "      <td>-0.455607</td>\n",
       "      <td>27.820093</td>\n",
       "      <td>-0.206049</td>\n",
       "      <td>16.383044</td>\n",
       "    </tr>\n",
       "    <tr>\n",
       "      <th>200160</th>\n",
       "      <td>3.20</td>\n",
       "      <td>33.0</td>\n",
       "      <td>0.9</td>\n",
       "      <td>114.0</td>\n",
       "      <td>21.0</td>\n",
       "      <td>23.8</td>\n",
       "      <td>8.0</td>\n",
       "      <td>1.30</td>\n",
       "      <td>2.275</td>\n",
       "      <td>353.0</td>\n",
       "      <td>...</td>\n",
       "      <td>-0.127207</td>\n",
       "      <td>10.973001</td>\n",
       "      <td>0.285714</td>\n",
       "      <td>-4.428571</td>\n",
       "      <td>0.047455</td>\n",
       "      <td>-5.504470</td>\n",
       "      <td>0.049858</td>\n",
       "      <td>-2.970331</td>\n",
       "      <td>0.059220</td>\n",
       "      <td>-4.594586</td>\n",
       "    </tr>\n",
       "    <tr>\n",
       "      <th>...</th>\n",
       "      <td>...</td>\n",
       "      <td>...</td>\n",
       "      <td>...</td>\n",
       "      <td>...</td>\n",
       "      <td>...</td>\n",
       "      <td>...</td>\n",
       "      <td>...</td>\n",
       "      <td>...</td>\n",
       "      <td>...</td>\n",
       "      <td>...</td>\n",
       "      <td>...</td>\n",
       "      <td>...</td>\n",
       "      <td>...</td>\n",
       "      <td>...</td>\n",
       "      <td>...</td>\n",
       "      <td>...</td>\n",
       "      <td>...</td>\n",
       "      <td>...</td>\n",
       "      <td>...</td>\n",
       "      <td>...</td>\n",
       "      <td>...</td>\n",
       "    </tr>\n",
       "    <tr>\n",
       "      <th>299828</th>\n",
       "      <td>1.80</td>\n",
       "      <td>29.0</td>\n",
       "      <td>2.8</td>\n",
       "      <td>92.0</td>\n",
       "      <td>18.0</td>\n",
       "      <td>27.7</td>\n",
       "      <td>9.0</td>\n",
       "      <td>1.70</td>\n",
       "      <td>2.275</td>\n",
       "      <td>117.0</td>\n",
       "      <td>...</td>\n",
       "      <td>0.184136</td>\n",
       "      <td>-16.364023</td>\n",
       "      <td>-1.000000</td>\n",
       "      <td>19.000000</td>\n",
       "      <td>-0.038271</td>\n",
       "      <td>5.393463</td>\n",
       "      <td>0.789474</td>\n",
       "      <td>-47.000000</td>\n",
       "      <td>-0.224528</td>\n",
       "      <td>18.032075</td>\n",
       "    </tr>\n",
       "    <tr>\n",
       "      <th>299853</th>\n",
       "      <td>2.90</td>\n",
       "      <td>72.0</td>\n",
       "      <td>1.4</td>\n",
       "      <td>154.0</td>\n",
       "      <td>22.0</td>\n",
       "      <td>21.5</td>\n",
       "      <td>7.9</td>\n",
       "      <td>1.20</td>\n",
       "      <td>2.890</td>\n",
       "      <td>240.0</td>\n",
       "      <td>...</td>\n",
       "      <td>-0.283641</td>\n",
       "      <td>25.591689</td>\n",
       "      <td>0.134409</td>\n",
       "      <td>-1.594086</td>\n",
       "      <td>0.239362</td>\n",
       "      <td>-29.111702</td>\n",
       "      <td>-0.383212</td>\n",
       "      <td>23.072993</td>\n",
       "      <td>-0.348898</td>\n",
       "      <td>27.885100</td>\n",
       "    </tr>\n",
       "    <tr>\n",
       "      <th>299865</th>\n",
       "      <td>3.90</td>\n",
       "      <td>33.0</td>\n",
       "      <td>1.0</td>\n",
       "      <td>227.0</td>\n",
       "      <td>28.0</td>\n",
       "      <td>39.7</td>\n",
       "      <td>13.7</td>\n",
       "      <td>1.30</td>\n",
       "      <td>2.275</td>\n",
       "      <td>217.0</td>\n",
       "      <td>...</td>\n",
       "      <td>0.066290</td>\n",
       "      <td>-5.907424</td>\n",
       "      <td>0.322581</td>\n",
       "      <td>-5.483871</td>\n",
       "      <td>0.103579</td>\n",
       "      <td>-12.575817</td>\n",
       "      <td>0.078035</td>\n",
       "      <td>-4.618497</td>\n",
       "      <td>0.112317</td>\n",
       "      <td>-8.912797</td>\n",
       "    </tr>\n",
       "    <tr>\n",
       "      <th>299931</th>\n",
       "      <td>4.50</td>\n",
       "      <td>43.0</td>\n",
       "      <td>1.7</td>\n",
       "      <td>111.0</td>\n",
       "      <td>27.0</td>\n",
       "      <td>23.0</td>\n",
       "      <td>8.3</td>\n",
       "      <td>3.20</td>\n",
       "      <td>2.275</td>\n",
       "      <td>331.0</td>\n",
       "      <td>...</td>\n",
       "      <td>-0.112903</td>\n",
       "      <td>10.032258</td>\n",
       "      <td>-0.326087</td>\n",
       "      <td>6.347826</td>\n",
       "      <td>-0.077139</td>\n",
       "      <td>9.654979</td>\n",
       "      <td>-0.067446</td>\n",
       "      <td>4.952338</td>\n",
       "      <td>-0.104118</td>\n",
       "      <td>8.752341</td>\n",
       "    </tr>\n",
       "    <tr>\n",
       "      <th>299956</th>\n",
       "      <td>3.20</td>\n",
       "      <td>34.0</td>\n",
       "      <td>1.8</td>\n",
       "      <td>188.0</td>\n",
       "      <td>20.0</td>\n",
       "      <td>28.1</td>\n",
       "      <td>9.4</td>\n",
       "      <td>5.58</td>\n",
       "      <td>2.900</td>\n",
       "      <td>185.0</td>\n",
       "      <td>...</td>\n",
       "      <td>0.030192</td>\n",
       "      <td>-1.833028</td>\n",
       "      <td>0.043605</td>\n",
       "      <td>0.071221</td>\n",
       "      <td>-0.084407</td>\n",
       "      <td>11.033218</td>\n",
       "      <td>0.032794</td>\n",
       "      <td>-1.045256</td>\n",
       "      <td>-0.176673</td>\n",
       "      <td>14.504572</td>\n",
       "    </tr>\n",
       "  </tbody>\n",
       "</table>\n",
       "<p>4333 rows × 61 columns</p>\n",
       "</div>"
      ],
      "text/plain": [
       "        ALBUMIN   BUN  CREATININE  GLUCOSE  BICARBONATE  HEMATOCRIT  \\\n",
       "200010     3.20  13.0         1.0    187.0         25.0        27.0   \n",
       "200014     2.96  31.5         1.2    121.6         24.0        28.5   \n",
       "200039     3.20   3.0         0.5    215.0         30.0        30.8   \n",
       "200079     3.20  31.5         1.2    133.0         24.0        28.5   \n",
       "200160     3.20  33.0         0.9    114.0         21.0        23.8   \n",
       "...         ...   ...         ...      ...          ...         ...   \n",
       "299828     1.80  29.0         2.8     92.0         18.0        27.7   \n",
       "299853     2.90  72.0         1.4    154.0         22.0        21.5   \n",
       "299865     3.90  33.0         1.0    227.0         28.0        39.7   \n",
       "299931     4.50  43.0         1.7    111.0         27.0        23.0   \n",
       "299956     3.20  34.0         1.8    188.0         20.0        28.1   \n",
       "\n",
       "        HEMOGLOBIN   INR  LACTATE  PLATELET  ...  intercept_HEARTRATE  \\\n",
       "200010         8.9  1.14    2.275     251.0  ...             0.111842   \n",
       "200014         9.5  1.18    1.725     130.0  ...            -0.118480   \n",
       "200039        10.7  1.10    2.275     370.0  ...             0.215232   \n",
       "200079         9.5  1.30    2.275     237.0  ...            -0.223214   \n",
       "200160         8.0  1.30    2.275     353.0  ...            -0.127207   \n",
       "...            ...   ...      ...       ...  ...                  ...   \n",
       "299828         9.0  1.70    2.275     117.0  ...             0.184136   \n",
       "299853         7.9  1.20    2.890     240.0  ...            -0.283641   \n",
       "299865        13.7  1.30    2.275     217.0  ...             0.066290   \n",
       "299931         8.3  3.20    2.275     331.0  ...            -0.112903   \n",
       "299956         9.4  5.58    2.900     185.0  ...             0.030192   \n",
       "\n",
       "        slope_HEARTRATE  intercept_RespRate  slope_RespRate  intercept_SysBP  \\\n",
       "200010        -9.960526           -0.782374       14.978417         0.089509   \n",
       "200014         9.447654           -0.282392        4.416944        -0.017693   \n",
       "200039       -18.973510            0.625000      -11.125000         0.076423   \n",
       "200079        19.928571            3.000000      -57.000000        -0.151066   \n",
       "200160        10.973001            0.285714       -4.428571         0.047455   \n",
       "...                 ...                 ...             ...              ...   \n",
       "299828       -16.364023           -1.000000       19.000000        -0.038271   \n",
       "299853        25.591689            0.134409       -1.594086         0.239362   \n",
       "299865        -5.907424            0.322581       -5.483871         0.103579   \n",
       "299931        10.032258           -0.326087        6.347826        -0.077139   \n",
       "299956        -1.833028            0.043605        0.071221        -0.084407   \n",
       "\n",
       "        slope_SysBP  intercept_DiasBP  slope_DiasBP  intercept_MeanBP  \\\n",
       "200010   -10.833056          0.080983     -4.846959          0.096552   \n",
       "200014     3.150997         -0.056544      4.505190          0.005546   \n",
       "200039    -9.301840         -0.625000     37.791667          0.180961   \n",
       "200079    18.483412         -0.455607     27.820093         -0.206049   \n",
       "200160    -5.504470          0.049858     -2.970331          0.059220   \n",
       "...             ...               ...           ...               ...   \n",
       "299828     5.393463          0.789474    -47.000000         -0.224528   \n",
       "299853   -29.111702         -0.383212     23.072993         -0.348898   \n",
       "299865   -12.575817          0.078035     -4.618497          0.112317   \n",
       "299931     9.654979         -0.067446      4.952338         -0.104118   \n",
       "299956    11.033218          0.032794     -1.045256         -0.176673   \n",
       "\n",
       "        slope_MeanBP  \n",
       "200010     -7.656614  \n",
       "200014      0.543697  \n",
       "200039    -13.965786  \n",
       "200079     16.383044  \n",
       "200160     -4.594586  \n",
       "...              ...  \n",
       "299828     18.032075  \n",
       "299853     27.885100  \n",
       "299865     -8.912797  \n",
       "299931      8.752341  \n",
       "299956     14.504572  \n",
       "\n",
       "[4333 rows x 61 columns]"
      ]
     },
     "execution_count": 21,
     "metadata": {},
     "output_type": "execute_result"
    }
   ],
   "source": [
    "to_export"
   ]
  },
  {
   "cell_type": "markdown",
   "metadata": {},
   "source": [
    "## 2.6 Making the y's"
   ]
  },
  {
   "cell_type": "code",
   "execution_count": 22,
   "metadata": {},
   "outputs": [],
   "source": [
    "y = pd.read_csv('./MIMIC/mimic.csv',sep=',')\n",
    "y.drop('Unnamed: 0',axis=1,inplace=True)\n",
    "\n",
    "y.set_index('ICUSTAY_ID',inplace=True)\n",
    "\n",
    "y = y[['time', 'ALBUMIN', 'BUN', 'CREATININE', 'GLUCOSE', 'BICARBONATE',\n",
    "       'HEMATOCRIT', 'HEMOGLOBIN', 'INR', 'LACTATE', 'PLATELET', 'POTASSIUM',\n",
    "       'PTT', 'WBC', 'AmountTransfused', 'TempC', 'HEARTRATE', 'RespRate',\n",
    "       'SysBP', 'DiasBP', 'MeanBP', 'crystalloid_bolus', 'gender',\n",
    "       'admission_age']]"
   ]
  },
  {
   "cell_type": "markdown",
   "metadata": {},
   "source": [
    "Before starting we have to check wheter, for some patients, there could be no data after the 3rd hour of ICU. Those patients are to be removed both from Xs and ys"
   ]
  },
  {
   "cell_type": "code",
   "execution_count": 23,
   "metadata": {},
   "outputs": [],
   "source": [
    "to_drop = future_checker(y,end_time+1)\n",
    "y = y[y.time >=end_time+1]"
   ]
  },
  {
   "cell_type": "markdown",
   "metadata": {},
   "source": [
    "Remove those indexes"
   ]
  },
  {
   "cell_type": "code",
   "execution_count": 24,
   "metadata": {},
   "outputs": [],
   "source": [
    "X= to_export.drop(to_drop)"
   ]
  },
  {
   "cell_type": "markdown",
   "metadata": {},
   "source": [
    "Create than the y by looking who has a positive amount of blood transfusion"
   ]
  },
  {
   "cell_type": "code",
   "execution_count": 25,
   "metadata": {},
   "outputs": [],
   "source": [
    "y['temp_index'] = y.index\n",
    "y=y[['temp_index','AmountTransfused']].groupby(['temp_index']).sum()"
   ]
  },
  {
   "cell_type": "code",
   "execution_count": 26,
   "metadata": {},
   "outputs": [
    {
     "data": {
      "text/html": [
       "<div>\n",
       "<style scoped>\n",
       "    .dataframe tbody tr th:only-of-type {\n",
       "        vertical-align: middle;\n",
       "    }\n",
       "\n",
       "    .dataframe tbody tr th {\n",
       "        vertical-align: top;\n",
       "    }\n",
       "\n",
       "    .dataframe thead th {\n",
       "        text-align: right;\n",
       "    }\n",
       "</style>\n",
       "<table border=\"1\" class=\"dataframe\">\n",
       "  <thead>\n",
       "    <tr style=\"text-align: right;\">\n",
       "      <th></th>\n",
       "      <th>AmountTransfused</th>\n",
       "    </tr>\n",
       "    <tr>\n",
       "      <th>temp_index</th>\n",
       "      <th></th>\n",
       "    </tr>\n",
       "  </thead>\n",
       "  <tbody>\n",
       "    <tr>\n",
       "      <th>200010</th>\n",
       "      <td>0.000000</td>\n",
       "    </tr>\n",
       "    <tr>\n",
       "      <th>200014</th>\n",
       "      <td>0.000000</td>\n",
       "    </tr>\n",
       "    <tr>\n",
       "      <th>200039</th>\n",
       "      <td>0.000000</td>\n",
       "    </tr>\n",
       "    <tr>\n",
       "      <th>200079</th>\n",
       "      <td>750.000000</td>\n",
       "    </tr>\n",
       "    <tr>\n",
       "      <th>200160</th>\n",
       "      <td>375.000000</td>\n",
       "    </tr>\n",
       "    <tr>\n",
       "      <th>...</th>\n",
       "      <td>...</td>\n",
       "    </tr>\n",
       "    <tr>\n",
       "      <th>299828</th>\n",
       "      <td>0.000000</td>\n",
       "    </tr>\n",
       "    <tr>\n",
       "      <th>299853</th>\n",
       "      <td>3714.999955</td>\n",
       "    </tr>\n",
       "    <tr>\n",
       "      <th>299865</th>\n",
       "      <td>750.000000</td>\n",
       "    </tr>\n",
       "    <tr>\n",
       "      <th>299931</th>\n",
       "      <td>375.000000</td>\n",
       "    </tr>\n",
       "    <tr>\n",
       "      <th>299956</th>\n",
       "      <td>283.000002</td>\n",
       "    </tr>\n",
       "  </tbody>\n",
       "</table>\n",
       "<p>4323 rows × 1 columns</p>\n",
       "</div>"
      ],
      "text/plain": [
       "            AmountTransfused\n",
       "temp_index                  \n",
       "200010              0.000000\n",
       "200014              0.000000\n",
       "200039              0.000000\n",
       "200079            750.000000\n",
       "200160            375.000000\n",
       "...                      ...\n",
       "299828              0.000000\n",
       "299853           3714.999955\n",
       "299865            750.000000\n",
       "299931            375.000000\n",
       "299956            283.000002\n",
       "\n",
       "[4323 rows x 1 columns]"
      ]
     },
     "execution_count": 26,
     "metadata": {},
     "output_type": "execute_result"
    }
   ],
   "source": [
    "y"
   ]
  },
  {
   "cell_type": "code",
   "execution_count": 27,
   "metadata": {},
   "outputs": [],
   "source": [
    "temp_index = y.index.copy()\n",
    "y = [int(x) for x in (y>0).values]\n",
    "y = pd.Series(y)\n",
    "y.index = temp_index\n",
    "y.name = 'outcome'"
   ]
  },
  {
   "cell_type": "markdown",
   "metadata": {},
   "source": [
    "## 2.7 Final checks and export"
   ]
  },
  {
   "cell_type": "code",
   "execution_count": 28,
   "metadata": {},
   "outputs": [
    {
     "data": {
      "text/plain": [
       "temp_index\n",
       "200010    0\n",
       "200014    0\n",
       "200039    0\n",
       "200079    1\n",
       "200160    1\n",
       "Name: outcome, dtype: int64"
      ]
     },
     "execution_count": 28,
     "metadata": {},
     "output_type": "execute_result"
    }
   ],
   "source": [
    "y.head()"
   ]
  },
  {
   "cell_type": "markdown",
   "metadata": {},
   "source": [
    "Let us check that the x's and the y's have the same dimension"
   ]
  },
  {
   "cell_type": "code",
   "execution_count": 29,
   "metadata": {},
   "outputs": [],
   "source": [
    "X= X.merge(y,left_index=True,right_index=True)\n",
    "\n",
    "y=X['outcome']\n",
    "X = X.drop('outcome',axis=1)"
   ]
  },
  {
   "cell_type": "code",
   "execution_count": 30,
   "metadata": {},
   "outputs": [
    {
     "data": {
      "text/plain": [
       "(4323, 61)"
      ]
     },
     "execution_count": 30,
     "metadata": {},
     "output_type": "execute_result"
    }
   ],
   "source": [
    "X.shape"
   ]
  },
  {
   "cell_type": "code",
   "execution_count": 31,
   "metadata": {},
   "outputs": [
    {
     "data": {
      "text/plain": [
       "(4323,)"
      ]
     },
     "execution_count": 31,
     "metadata": {},
     "output_type": "execute_result"
    }
   ],
   "source": [
    "y.shape"
   ]
  },
  {
   "cell_type": "code",
   "execution_count": 32,
   "metadata": {},
   "outputs": [],
   "source": [
    "X.to_csv('x_0_3_MIMIC.csv')\n",
    "y.to_csv('y_4_24_MIMIC.csv')"
   ]
  },
  {
   "cell_type": "code",
   "execution_count": null,
   "metadata": {},
   "outputs": [],
   "source": []
  },
  {
   "cell_type": "code",
   "execution_count": null,
   "metadata": {},
   "outputs": [],
   "source": []
  },
  {
   "cell_type": "code",
   "execution_count": null,
   "metadata": {},
   "outputs": [],
   "source": []
  },
  {
   "cell_type": "code",
   "execution_count": null,
   "metadata": {},
   "outputs": [],
   "source": []
  },
  {
   "cell_type": "markdown",
   "metadata": {},
   "source": [
    "# High transfusion dataset"
   ]
  },
  {
   "cell_type": "code",
   "execution_count": 33,
   "metadata": {},
   "outputs": [],
   "source": [
    "transfused_idx = y[y==1].index"
   ]
  },
  {
   "cell_type": "code",
   "execution_count": 34,
   "metadata": {},
   "outputs": [],
   "source": [
    "dataset = pd.read_csv('./MIMIC/mimic.csv',sep=',')\n",
    "dataset.drop('Unnamed: 0',axis=1,inplace=True)\n",
    "\n",
    "dataset.set_index('ICUSTAY_ID',inplace=True)\n",
    "\n",
    "dataset = dataset[['time', 'ALBUMIN', 'BUN', 'CREATININE', 'GLUCOSE', 'BICARBONATE',\n",
    "       'HEMATOCRIT', 'HEMOGLOBIN', 'INR', 'LACTATE', 'PLATELET', 'POTASSIUM',\n",
    "       'PTT', 'WBC', 'AmountTransfused', 'TempC', 'HEARTRATE', 'RespRate',\n",
    "       'SysBP', 'DiasBP', 'MeanBP', 'crystalloid_bolus', 'gender',\n",
    "       'admission_age']]"
   ]
  },
  {
   "cell_type": "code",
   "execution_count": 35,
   "metadata": {},
   "outputs": [],
   "source": [
    "#extract only transfused patients from the whole dataset\n",
    "y_transfused = dataset.loc[transfused_idx].copy()\n",
    "\n",
    "#subset the whole dataset to the columns of intrest\n",
    "y_transfused = y_transfused[['time','AmountTransfused']]\n",
    "\n",
    "#training set identic to the previous, need to extract different y's. Start by subsetting for time\n",
    "y_transfused = y_transfused[y_transfused.time >=4]\n",
    "\n",
    "#creat a temporary feature to use in groupby to aggregate measures\n",
    "y_transfused['temp_index'] = y_transfused.index\n",
    "y_transfused = y_transfused.drop('time',axis=1)\n",
    "y_transfused = y_transfused.groupby('temp_index').sum()"
   ]
  },
  {
   "cell_type": "code",
   "execution_count": 36,
   "metadata": {},
   "outputs": [],
   "source": [
    "#save indexes\n",
    "temp_index = y_transfused.index\n",
    "\n",
    "#trasform booleans in integers an create the series containing the outcomes\n",
    "y_transfused= [int(x[0]) for x in (y_transfused>500).values]\n",
    "y_transfused = pd.Series(y_transfused)\n",
    "y_transfused.index = temp_index\n",
    "y_transfused.name ='outcome'"
   ]
  },
  {
   "cell_type": "code",
   "execution_count": 37,
   "metadata": {},
   "outputs": [],
   "source": [
    "#extract the relative X's from the previous dataset\n",
    "X_transfused = X.loc[temp_index]"
   ]
  },
  {
   "cell_type": "code",
   "execution_count": 38,
   "metadata": {},
   "outputs": [
    {
     "data": {
      "text/html": [
       "<div>\n",
       "<style scoped>\n",
       "    .dataframe tbody tr th:only-of-type {\n",
       "        vertical-align: middle;\n",
       "    }\n",
       "\n",
       "    .dataframe tbody tr th {\n",
       "        vertical-align: top;\n",
       "    }\n",
       "\n",
       "    .dataframe thead th {\n",
       "        text-align: right;\n",
       "    }\n",
       "</style>\n",
       "<table border=\"1\" class=\"dataframe\">\n",
       "  <thead>\n",
       "    <tr style=\"text-align: right;\">\n",
       "      <th></th>\n",
       "      <th>ALBUMIN</th>\n",
       "      <th>BUN</th>\n",
       "      <th>CREATININE</th>\n",
       "      <th>GLUCOSE</th>\n",
       "      <th>BICARBONATE</th>\n",
       "      <th>HEMATOCRIT</th>\n",
       "      <th>HEMOGLOBIN</th>\n",
       "      <th>INR</th>\n",
       "      <th>LACTATE</th>\n",
       "      <th>PLATELET</th>\n",
       "      <th>...</th>\n",
       "      <th>intercept_HEARTRATE</th>\n",
       "      <th>slope_HEARTRATE</th>\n",
       "      <th>intercept_RespRate</th>\n",
       "      <th>slope_RespRate</th>\n",
       "      <th>intercept_SysBP</th>\n",
       "      <th>slope_SysBP</th>\n",
       "      <th>intercept_DiasBP</th>\n",
       "      <th>slope_DiasBP</th>\n",
       "      <th>intercept_MeanBP</th>\n",
       "      <th>slope_MeanBP</th>\n",
       "    </tr>\n",
       "    <tr>\n",
       "      <th>temp_index</th>\n",
       "      <th></th>\n",
       "      <th></th>\n",
       "      <th></th>\n",
       "      <th></th>\n",
       "      <th></th>\n",
       "      <th></th>\n",
       "      <th></th>\n",
       "      <th></th>\n",
       "      <th></th>\n",
       "      <th></th>\n",
       "      <th></th>\n",
       "      <th></th>\n",
       "      <th></th>\n",
       "      <th></th>\n",
       "      <th></th>\n",
       "      <th></th>\n",
       "      <th></th>\n",
       "      <th></th>\n",
       "      <th></th>\n",
       "      <th></th>\n",
       "      <th></th>\n",
       "    </tr>\n",
       "  </thead>\n",
       "  <tbody>\n",
       "    <tr>\n",
       "      <th>200079</th>\n",
       "      <td>3.2</td>\n",
       "      <td>31.5</td>\n",
       "      <td>1.2</td>\n",
       "      <td>133.0</td>\n",
       "      <td>24.0</td>\n",
       "      <td>28.5</td>\n",
       "      <td>9.5</td>\n",
       "      <td>1.30</td>\n",
       "      <td>2.275</td>\n",
       "      <td>237.0</td>\n",
       "      <td>...</td>\n",
       "      <td>-0.223214</td>\n",
       "      <td>19.928571</td>\n",
       "      <td>3.000000</td>\n",
       "      <td>-57.000000</td>\n",
       "      <td>-0.151066</td>\n",
       "      <td>18.483412</td>\n",
       "      <td>-0.455607</td>\n",
       "      <td>27.820093</td>\n",
       "      <td>-0.206049</td>\n",
       "      <td>16.383044</td>\n",
       "    </tr>\n",
       "    <tr>\n",
       "      <th>200160</th>\n",
       "      <td>3.2</td>\n",
       "      <td>33.0</td>\n",
       "      <td>0.9</td>\n",
       "      <td>114.0</td>\n",
       "      <td>21.0</td>\n",
       "      <td>23.8</td>\n",
       "      <td>8.0</td>\n",
       "      <td>1.30</td>\n",
       "      <td>2.275</td>\n",
       "      <td>353.0</td>\n",
       "      <td>...</td>\n",
       "      <td>-0.127207</td>\n",
       "      <td>10.973001</td>\n",
       "      <td>0.285714</td>\n",
       "      <td>-4.428571</td>\n",
       "      <td>0.047455</td>\n",
       "      <td>-5.504470</td>\n",
       "      <td>0.049858</td>\n",
       "      <td>-2.970331</td>\n",
       "      <td>0.059220</td>\n",
       "      <td>-4.594586</td>\n",
       "    </tr>\n",
       "    <tr>\n",
       "      <th>200277</th>\n",
       "      <td>3.2</td>\n",
       "      <td>31.5</td>\n",
       "      <td>1.2</td>\n",
       "      <td>133.0</td>\n",
       "      <td>24.0</td>\n",
       "      <td>25.0</td>\n",
       "      <td>8.5</td>\n",
       "      <td>1.26</td>\n",
       "      <td>2.275</td>\n",
       "      <td>237.0</td>\n",
       "      <td>...</td>\n",
       "      <td>0.143172</td>\n",
       "      <td>-11.856828</td>\n",
       "      <td>0.090909</td>\n",
       "      <td>-0.545455</td>\n",
       "      <td>-0.212032</td>\n",
       "      <td>24.577909</td>\n",
       "      <td>-0.008399</td>\n",
       "      <td>1.508399</td>\n",
       "      <td>-0.242755</td>\n",
       "      <td>18.790499</td>\n",
       "    </tr>\n",
       "    <tr>\n",
       "      <th>200383</th>\n",
       "      <td>3.0</td>\n",
       "      <td>27.0</td>\n",
       "      <td>2.8</td>\n",
       "      <td>126.0</td>\n",
       "      <td>32.0</td>\n",
       "      <td>19.5</td>\n",
       "      <td>6.8</td>\n",
       "      <td>1.14</td>\n",
       "      <td>2.275</td>\n",
       "      <td>256.0</td>\n",
       "      <td>...</td>\n",
       "      <td>-0.104252</td>\n",
       "      <td>9.267171</td>\n",
       "      <td>0.520833</td>\n",
       "      <td>-9.833333</td>\n",
       "      <td>0.013555</td>\n",
       "      <td>-0.679512</td>\n",
       "      <td>-0.121702</td>\n",
       "      <td>7.389347</td>\n",
       "      <td>-0.128004</td>\n",
       "      <td>10.287606</td>\n",
       "    </tr>\n",
       "    <tr>\n",
       "      <th>200438</th>\n",
       "      <td>2.4</td>\n",
       "      <td>128.0</td>\n",
       "      <td>3.5</td>\n",
       "      <td>96.6</td>\n",
       "      <td>12.0</td>\n",
       "      <td>28.5</td>\n",
       "      <td>9.5</td>\n",
       "      <td>1.82</td>\n",
       "      <td>3.000</td>\n",
       "      <td>61.0</td>\n",
       "      <td>...</td>\n",
       "      <td>-0.074360</td>\n",
       "      <td>5.602855</td>\n",
       "      <td>0.207254</td>\n",
       "      <td>-4.305699</td>\n",
       "      <td>-0.079927</td>\n",
       "      <td>8.784853</td>\n",
       "      <td>-0.083386</td>\n",
       "      <td>4.346544</td>\n",
       "      <td>-0.087017</td>\n",
       "      <td>6.135657</td>\n",
       "    </tr>\n",
       "  </tbody>\n",
       "</table>\n",
       "<p>5 rows × 61 columns</p>\n",
       "</div>"
      ],
      "text/plain": [
       "            ALBUMIN    BUN  CREATININE  GLUCOSE  BICARBONATE  HEMATOCRIT  \\\n",
       "temp_index                                                                 \n",
       "200079          3.2   31.5         1.2    133.0         24.0        28.5   \n",
       "200160          3.2   33.0         0.9    114.0         21.0        23.8   \n",
       "200277          3.2   31.5         1.2    133.0         24.0        25.0   \n",
       "200383          3.0   27.0         2.8    126.0         32.0        19.5   \n",
       "200438          2.4  128.0         3.5     96.6         12.0        28.5   \n",
       "\n",
       "            HEMOGLOBIN   INR  LACTATE  PLATELET  ...  intercept_HEARTRATE  \\\n",
       "temp_index                                       ...                        \n",
       "200079             9.5  1.30    2.275     237.0  ...            -0.223214   \n",
       "200160             8.0  1.30    2.275     353.0  ...            -0.127207   \n",
       "200277             8.5  1.26    2.275     237.0  ...             0.143172   \n",
       "200383             6.8  1.14    2.275     256.0  ...            -0.104252   \n",
       "200438             9.5  1.82    3.000      61.0  ...            -0.074360   \n",
       "\n",
       "            slope_HEARTRATE  intercept_RespRate  slope_RespRate  \\\n",
       "temp_index                                                        \n",
       "200079            19.928571            3.000000      -57.000000   \n",
       "200160            10.973001            0.285714       -4.428571   \n",
       "200277           -11.856828            0.090909       -0.545455   \n",
       "200383             9.267171            0.520833       -9.833333   \n",
       "200438             5.602855            0.207254       -4.305699   \n",
       "\n",
       "            intercept_SysBP  slope_SysBP  intercept_DiasBP  slope_DiasBP  \\\n",
       "temp_index                                                                 \n",
       "200079            -0.151066    18.483412         -0.455607     27.820093   \n",
       "200160             0.047455    -5.504470          0.049858     -2.970331   \n",
       "200277            -0.212032    24.577909         -0.008399      1.508399   \n",
       "200383             0.013555    -0.679512         -0.121702      7.389347   \n",
       "200438            -0.079927     8.784853         -0.083386      4.346544   \n",
       "\n",
       "            intercept_MeanBP  slope_MeanBP  \n",
       "temp_index                                  \n",
       "200079             -0.206049     16.383044  \n",
       "200160              0.059220     -4.594586  \n",
       "200277             -0.242755     18.790499  \n",
       "200383             -0.128004     10.287606  \n",
       "200438             -0.087017      6.135657  \n",
       "\n",
       "[5 rows x 61 columns]"
      ]
     },
     "execution_count": 38,
     "metadata": {},
     "output_type": "execute_result"
    }
   ],
   "source": [
    "X_transfused.head()"
   ]
  },
  {
   "cell_type": "code",
   "execution_count": 39,
   "metadata": {},
   "outputs": [
    {
     "data": {
      "text/plain": [
       "temp_index\n",
       "200079    1\n",
       "200160    0\n",
       "200277    0\n",
       "200383    1\n",
       "200438    1\n",
       "Name: outcome, dtype: int64"
      ]
     },
     "execution_count": 39,
     "metadata": {},
     "output_type": "execute_result"
    }
   ],
   "source": [
    "y_transfused.head()"
   ]
  },
  {
   "cell_type": "code",
   "execution_count": 40,
   "metadata": {},
   "outputs": [],
   "source": [
    "X_transfused.to_csv('Regression_x_0_3_MIMIC.csv')"
   ]
  },
  {
   "cell_type": "code",
   "execution_count": 41,
   "metadata": {},
   "outputs": [],
   "source": [
    "X_transfused.to_csv('Regression_y_4_24_MIMIC.csv')"
   ]
  },
  {
   "cell_type": "code",
   "execution_count": null,
   "metadata": {},
   "outputs": [],
   "source": []
  }
 ],
 "metadata": {
  "kernelspec": {
   "display_name": "Python 3",
   "language": "python",
   "name": "python3"
  },
  "language_info": {
   "codemirror_mode": {
    "name": "ipython",
    "version": 3
   },
   "file_extension": ".py",
   "mimetype": "text/x-python",
   "name": "python",
   "nbconvert_exporter": "python",
   "pygments_lexer": "ipython3",
   "version": "3.6.10"
  }
 },
 "nbformat": 4,
 "nbformat_minor": 4
}
